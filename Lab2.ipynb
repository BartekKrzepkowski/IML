{
 "cells": [
  {
   "cell_type": "code",
   "execution_count": 1,
   "metadata": {},
   "outputs": [],
   "source": [
    "%matplotlib inline"
   ]
  },
  {
   "cell_type": "markdown",
   "metadata": {
    "id": "9kfUkA4Ia4X9"
   },
   "source": [
    "# Lab2 - Active Learning on Streams\n",
    "\n",
    "In this scenario we will look into stream based problems and implement an examplary active learning method for streams.\n",
    "\n",
    "Stream assumptions:\n",
    "- we are dealing with Big Data\n",
    "- we cannot store or use all of the incoming data at once\n",
    "- labeling process is expensive, we cannot pass all of the samples to be labeled\n",
    "- as we cannot store the unncesesary objects we should decide which objects should be stored and labeld in real time\n",
    "\n",
    "An example of data stream with images can found here: \\\n",
    "https://randomwordgenerator.com/picture.php\n"
   ]
  },
  {
   "cell_type": "markdown",
   "metadata": {
    "id": "WE-1Z_-Pwax7"
   },
   "source": [
    "1. Simulate a stream dataset\n",
    "\n",
    "In case we do not have an actual data stream available we can simulate one with a normal dataset.\n",
    "\n",
    "Lets load a Fashion-MNIST dataset"
   ]
  },
  {
   "cell_type": "code",
   "execution_count": 2,
   "metadata": {
    "executionInfo": {
     "elapsed": 76932,
     "status": "ok",
     "timestamp": 1645522405973,
     "user": {
      "displayName": "Daniel Kałuża",
      "photoUrl": "https://lh3.googleusercontent.com/a/default-user=s64",
      "userId": "12841189921214252167"
     },
     "user_tz": -60
    },
    "id": "FuCm5lHya3Pr"
   },
   "outputs": [],
   "source": [
    "from sklearn.datasets import fetch_openml\n",
    "X, Y = fetch_openml('Fashion-MNIST', return_X_y=True) "
   ]
  },
  {
   "cell_type": "markdown",
   "metadata": {
    "id": "8KjfT6Z44Py4"
   },
   "source": [
    "We will simulate a small labeled initial training dataset by taking 10% of the data randomly."
   ]
  },
  {
   "cell_type": "code",
   "execution_count": 3,
   "metadata": {
    "colab": {
     "base_uri": "https://localhost:8080/",
     "height": 334
    },
    "executionInfo": {
     "elapsed": 2088,
     "status": "ok",
     "timestamp": 1645522408043,
     "user": {
      "displayName": "Daniel Kałuża",
      "photoUrl": "https://lh3.googleusercontent.com/a/default-user=s64",
      "userId": "12841189921214252167"
     },
     "user_tz": -60
    },
    "id": "OnIxmOSZ4p7l",
    "outputId": "1bf7715a-d0bf-488c-dfd1-0ff144674352"
   },
   "outputs": [
    {
     "name": "stdout",
     "output_type": "stream",
     "text": [
      " Shape of initial training dataset (70, 784)\n"
     ]
    },
    {
     "data": {
      "text/plain": [
       "(array([8., 5., 6., 9., 9., 4., 7., 9., 6., 7.]),\n",
       " array([0. , 0.9, 1.8, 2.7, 3.6, 4.5, 5.4, 6.3, 7.2, 8.1, 9. ]),\n",
       " <BarContainer object of 10 artists>)"
      ]
     },
     "execution_count": 3,
     "metadata": {},
     "output_type": "execute_result"
    },
    {
     "data": {
      "image/png": "[encoded data removed]",
      "text/plain": [
       "<Figure size 432x288 with 1 Axes>"
      ]
     },
     "metadata": {
      "needs_background": "light"
     },
     "output_type": "display_data"
    }
   ],
   "source": [
    "from sklearn.model_selection import train_test_split\n",
    "import matplotlib.pyplot as plt\n",
    "\n",
    "X_initial_train, X_stream,  Y_initial_train, Y_stream = train_test_split(X.values, Y, train_size=0.001, random_state=42)\n",
    "print(f' Shape of initial training dataset {X_initial_train.shape}')\n",
    "plt.hist(Y_initial_train)"
   ]
  },
  {
   "cell_type": "markdown",
   "metadata": {
    "id": "wobt9djT5qmR"
   },
   "source": [
    "Create a plotting function for a single image."
   ]
  },
  {
   "cell_type": "code",
   "execution_count": 23,
   "metadata": {},
   "outputs": [
    {
     "data": {
      "text/plain": [
       "0"
      ]
     },
     "execution_count": 23,
     "metadata": {},
     "output_type": "execute_result"
    }
   ],
   "source": [
    "X.isna().sum().sum()"
   ]
  },
  {
   "cell_type": "code",
   "execution_count": 4,
   "metadata": {
    "id": "24Jkp3l5515d"
   },
   "outputs": [
    {
     "data": {
      "image/png": "[encoded data removed]",
      "text/plain": [
       "<Figure size 432x288 with 1 Axes>"
      ]
     },
     "metadata": {
      "needs_background": "light"
     },
     "output_type": "display_data"
    }
   ],
   "source": [
    "def plot_img(x):\n",
    "    plt.imshow(x.reshape(28, 28))\n",
    "    plt.show()\n",
    "\n",
    "plot_img(X_initial_train[0])"
   ]
  },
  {
   "cell_type": "markdown",
   "metadata": {
    "id": "XdjhpDN-6BWV"
   },
   "source": [
    "Create a generator that return a random image from the X_stream and its index in the array."
   ]
  },
  {
   "cell_type": "code",
   "execution_count": 28,
   "metadata": {
    "id": "3cJFUOvu71Ub"
   },
   "outputs": [
    {
     "name": "stdout",
     "output_type": "stream",
     "text": [
      "41328 (784,)\n"
     ]
    },
    {
     "data": {
      "image/png": "[encoded data removed]",
      "text/plain": [
       "<Figure size 432x288 with 1 Axes>"
      ]
     },
     "metadata": {
      "needs_background": "light"
     },
     "output_type": "display_data"
    }
   ],
   "source": [
    "from itertools import islice\n",
    "import numpy as np\n",
    "\n",
    "def stream_data(X_stream):\n",
    "    idx = np.random.randint(0, X_stream.shape[0])\n",
    "    yield idx, X_stream[idx] \n",
    "\n",
    "for (_, x) in islice(stream_data(X_stream), 10):\n",
    "    print(_, x.shape)\n",
    "    plot_img(x)"
   ]
  },
  {
   "cell_type": "markdown",
   "metadata": {
    "id": "BCCW-26r8Jc1"
   },
   "source": [
    "2. Scale the data and train a ridge logistic regression model on the initial dataset."
   ]
  },
  {
   "cell_type": "code",
   "execution_count": 69,
   "metadata": {
    "id": "iGozfwWh_y0U"
   },
   "outputs": [
    {
     "data": {
      "text/plain": [
       "Pipeline(steps=[('standardscaler', StandardScaler()),\n",
       "                ('ridgeclassifier', RidgeClassifier())])"
      ]
     },
     "execution_count": 69,
     "metadata": {},
     "output_type": "execute_result"
    }
   ],
   "source": [
    "from sklearn.pipeline import make_pipeline\n",
    "from sklearn.linear_model import RidgeClassifier\n",
    "\n",
    "from sklearn.preprocessing import StandardScaler\n",
    "\n",
    "model1 = make_pipeline(StandardScaler(), RidgeClassifier())\n",
    "model1.fit(X_initial_train, Y_initial_train)"
   ]
  },
  {
   "cell_type": "markdown",
   "metadata": {
    "id": "ZjVGj6nYAmkV"
   },
   "source": [
    "3. Check the accuracy of the model on the initial training data."
   ]
  },
  {
   "cell_type": "code",
   "execution_count": 70,
   "metadata": {},
   "outputs": [
    {
     "data": {
      "text/plain": [
       "1.0"
      ]
     },
     "execution_count": 70,
     "metadata": {},
     "output_type": "execute_result"
    }
   ],
   "source": [
    "accuracy1 = model1.score(X_initial_train, Y_initial_train)\n",
    "accuracy1"
   ]
  },
  {
   "cell_type": "code",
   "execution_count": 71,
   "metadata": {},
   "outputs": [
    {
     "data": {
      "text/plain": [
       "0.5618904618904619"
      ]
     },
     "execution_count": 71,
     "metadata": {},
     "output_type": "execute_result"
    }
   ],
   "source": [
    "model1.score(X_stream, Y_stream)"
   ]
  },
  {
   "cell_type": "markdown",
   "metadata": {
    "id": "AVWt1GNJBsX_"
   },
   "source": [
    "Now we will try to create a different model from the version space.\n",
    "\n",
    "4. Create another ridge logistic regression with other regularization parameters.\n",
    "Try to obtain the same accuracy on inital training data with different coefficient.(exactly the same predictions on the training dataset would be perfect)"
   ]
  },
  {
   "cell_type": "code",
   "execution_count": 65,
   "metadata": {
    "id": "DRHpsCxACttU"
   },
   "outputs": [
    {
     "data": {
      "text/plain": [
       "1.0"
      ]
     },
     "execution_count": 65,
     "metadata": {},
     "output_type": "execute_result"
    }
   ],
   "source": [
    "model2 = make_pipeline(StandardScaler(), RidgeClassifier(alpha=0.5))\n",
    "model2.fit(X_initial_train, Y_initial_train)\n",
    "accuracy2 = model2.score(X_initial_train, Y_initial_train)\n",
    "accuracy2"
   ]
  },
  {
   "cell_type": "code",
   "execution_count": 66,
   "metadata": {
    "id": "DRHpsCxACttU"
   },
   "outputs": [
    {
     "data": {
      "text/plain": [
       "0.5614328614328614"
      ]
     },
     "execution_count": 66,
     "metadata": {},
     "output_type": "execute_result"
    }
   ],
   "source": [
    "model2.score(X_stream, Y_stream)"
   ]
  },
  {
   "cell_type": "markdown",
   "metadata": {
    "id": "EkrW6YN8CuG5"
   },
   "source": [
    "5. Iterate through a stream data, predict class with both models. Are there objects on which their predictions differ? Plot few of such objects."
   ]
  },
  {
   "cell_type": "code",
   "execution_count": 41,
   "metadata": {
    "collapsed": true,
    "id": "9IsVthDDElf8",
    "jupyter": {
     "outputs_hidden": true
    },
    "tags": []
   },
   "outputs": [
    {
     "name": "stdout",
     "output_type": "stream",
     "text": [
      "['1'] ['5']\n"
     ]
    },
    {
     "data": {
      "image/png": "[encoded data removed]",
      "text/plain": [
       "<Figure size 432x288 with 1 Axes>"
      ]
     },
     "metadata": {
      "needs_background": "light"
     },
     "output_type": "display_data"
    },
    {
     "name": "stdout",
     "output_type": "stream",
     "text": [
      "['4'] ['6']\n"
     ]
    },
    {
     "data": {
      "image/png": "[encoded data removed]",
      "text/plain": [
       "<Figure size 432x288 with 1 Axes>"
      ]
     },
     "metadata": {
      "needs_background": "light"
     },
     "output_type": "display_data"
    },
    {
     "name": "stdout",
     "output_type": "stream",
     "text": [
      "['4'] ['6']\n"
     ]
    },
    {
     "data": {
      "image/png": "[encoded data removed]",
      "text/plain": [
       "<Figure size 432x288 with 1 Axes>"
      ]
     },
     "metadata": {
      "needs_background": "light"
     },
     "output_type": "display_data"
    },
    {
     "name": "stdout",
     "output_type": "stream",
     "text": [
      "['0'] ['6']\n"
     ]
    },
    {
     "data": {
      "image/png": "[encoded data removed]",
      "text/plain": [
       "<Figure size 432x288 with 1 Axes>"
      ]
     },
     "metadata": {
      "needs_background": "light"
     },
     "output_type": "display_data"
    },
    {
     "name": "stdout",
     "output_type": "stream",
     "text": [
      "['0'] ['2']\n"
     ]
    },
    {
     "data": {
      "image/png": "[encoded data removed]",
      "text/plain": [
       "<Figure size 432x288 with 1 Axes>"
      ]
     },
     "metadata": {
      "needs_background": "light"
     },
     "output_type": "display_data"
    },
    {
     "name": "stdout",
     "output_type": "stream",
     "text": [
      "['0'] ['3']\n"
     ]
    },
    {
     "data": {
      "image/png": "[encoded data removed]",
      "text/plain": [
       "<Figure size 432x288 with 1 Axes>"
      ]
     },
     "metadata": {
      "needs_background": "light"
     },
     "output_type": "display_data"
    },
    {
     "name": "stdout",
     "output_type": "stream",
     "text": [
      "['3'] ['4']\n"
     ]
    },
    {
     "data": {
      "image/png": "[encoded data removed]",
      "text/plain": [
       "<Figure size 432x288 with 1 Axes>"
      ]
     },
     "metadata": {
      "needs_background": "light"
     },
     "output_type": "display_data"
    },
    {
     "name": "stdout",
     "output_type": "stream",
     "text": [
      "['5'] ['8']\n"
     ]
    },
    {
     "data": {
      "image/png": "[encoded data removed]",
      "text/plain": [
       "<Figure size 432x288 with 1 Axes>"
      ]
     },
     "metadata": {
      "needs_background": "light"
     },
     "output_type": "display_data"
    },
    {
     "name": "stdout",
     "output_type": "stream",
     "text": [
      "['5'] ['0']\n"
     ]
    },
    {
     "data": {
      "image/png": "[encoded data removed]",
      "text/plain": [
       "<Figure size 432x288 with 1 Axes>"
      ]
     },
     "metadata": {
      "needs_background": "light"
     },
     "output_type": "display_data"
    },
    {
     "name": "stdout",
     "output_type": "stream",
     "text": [
      "['0'] ['2']\n"
     ]
    },
    {
     "data": {
      "image/png": "[encoded data removed]",
      "text/plain": [
       "<Figure size 432x288 with 1 Axes>"
      ]
     },
     "metadata": {
      "needs_background": "light"
     },
     "output_type": "display_data"
    },
    {
     "name": "stdout",
     "output_type": "stream",
     "text": [
      "['4'] ['1']\n"
     ]
    },
    {
     "data": {
      "image/png": "[encoded data removed]",
      "text/plain": [
       "<Figure size 432x288 with 1 Axes>"
      ]
     },
     "metadata": {
      "needs_background": "light"
     },
     "output_type": "display_data"
    },
    {
     "name": "stdout",
     "output_type": "stream",
     "text": [
      "['1'] ['3']\n"
     ]
    },
    {
     "data": {
      "image/png": "[encoded data removed]",
      "text/plain": [
       "<Figure size 432x288 with 1 Axes>"
      ]
     },
     "metadata": {
      "needs_background": "light"
     },
     "output_type": "display_data"
    },
    {
     "name": "stdout",
     "output_type": "stream",
     "text": [
      "['9'] ['7']\n"
     ]
    },
    {
     "data": {
      "image/png": "[encoded data removed]",
      "text/plain": [
       "<Figure size 432x288 with 1 Axes>"
      ]
     },
     "metadata": {
      "needs_background": "light"
     },
     "output_type": "display_data"
    },
    {
     "name": "stdout",
     "output_type": "stream",
     "text": [
      "['3'] ['0']\n"
     ]
    },
    {
     "data": {
      "image/png": "[encoded data removed]",
      "text/plain": [
       "<Figure size 432x288 with 1 Axes>"
      ]
     },
     "metadata": {
      "needs_background": "light"
     },
     "output_type": "display_data"
    },
    {
     "name": "stdout",
     "output_type": "stream",
     "text": [
      "['0'] ['8']\n"
     ]
    },
    {
     "data": {
      "image/png": "[encoded data removed]",
      "text/plain": [
       "<Figure size 432x288 with 1 Axes>"
      ]
     },
     "metadata": {
      "needs_background": "light"
     },
     "output_type": "display_data"
    },
    {
     "name": "stdout",
     "output_type": "stream",
     "text": [
      "['9'] ['2']\n"
     ]
    },
    {
     "data": {
      "image/png": "[encoded data removed]",
      "text/plain": [
       "<Figure size 432x288 with 1 Axes>"
      ]
     },
     "metadata": {
      "needs_background": "light"
     },
     "output_type": "display_data"
    },
    {
     "name": "stdout",
     "output_type": "stream",
     "text": [
      "['2'] ['1']\n"
     ]
    },
    {
     "data": {
      "image/png": "[encoded data removed]",
      "text/plain": [
       "<Figure size 432x288 with 1 Axes>"
      ]
     },
     "metadata": {
      "needs_background": "light"
     },
     "output_type": "display_data"
    },
    {
     "name": "stdout",
     "output_type": "stream",
     "text": [
      "['4'] ['3']\n"
     ]
    },
    {
     "data": {
      "image/png": "[encoded data removed]",
      "text/plain": [
       "<Figure size 432x288 with 1 Axes>"
      ]
     },
     "metadata": {
      "needs_background": "light"
     },
     "output_type": "display_data"
    },
    {
     "name": "stdout",
     "output_type": "stream",
     "text": [
      "['8'] ['3']\n"
     ]
    },
    {
     "data": {
      "image/png": "[encoded data removed]",
      "text/plain": [
       "<Figure size 432x288 with 1 Axes>"
      ]
     },
     "metadata": {
      "needs_background": "light"
     },
     "output_type": "display_data"
    },
    {
     "name": "stdout",
     "output_type": "stream",
     "text": [
      "['2'] ['6']\n"
     ]
    },
    {
     "data": {
      "image/png": "[encoded data removed]",
      "text/plain": [
       "<Figure size 432x288 with 1 Axes>"
      ]
     },
     "metadata": {
      "needs_background": "light"
     },
     "output_type": "display_data"
    },
    {
     "name": "stdout",
     "output_type": "stream",
     "text": [
      "['3'] ['6']\n"
     ]
    },
    {
     "data": {
      "image/png": "[encoded data removed]",
      "text/plain": [
       "<Figure size 432x288 with 1 Axes>"
      ]
     },
     "metadata": {
      "needs_background": "light"
     },
     "output_type": "display_data"
    },
    {
     "name": "stdout",
     "output_type": "stream",
     "text": [
      "['0'] ['2']\n"
     ]
    },
    {
     "data": {
      "image/png": "[encoded data removed]",
      "text/plain": [
       "<Figure size 432x288 with 1 Axes>"
      ]
     },
     "metadata": {
      "needs_background": "light"
     },
     "output_type": "display_data"
    }
   ],
   "source": [
    "for x in islice(X_stream, 10000):\n",
    "    y_pred1 = model1.predict(x[np.newaxis])\n",
    "    y_pred2 = model2.predict(x[np.newaxis])\n",
    "    if y_pred1 != y_pred2:\n",
    "        print(y_pred1, y_pred2)\n",
    "        plot_img(x)"
   ]
  },
  {
   "cell_type": "markdown",
   "metadata": {
    "id": "wxjt3SoSE6ED"
   },
   "source": [
    "We can use the same approach on the pool pased problem it is enough to rank the samples by model probability distribution difference across the prediction classes."
   ]
  },
  {
   "cell_type": "markdown",
   "metadata": {
    "id": "SCXl8MWhFzdZ"
   },
   "source": [
    "6.* Create a loop for retraining the models after choosing an object with different predictions.(Add such objects to training data, assuming that it was labelled)"
   ]
  },
  {
   "cell_type": "code",
   "execution_count": 84,
   "metadata": {},
   "outputs": [],
   "source": [
    "import pandas as pd"
   ]
  },
  {
   "cell_type": "code",
   "execution_count": 91,
   "metadata": {
    "id": "WOxokHWWFz6F",
    "tags": []
   },
   "outputs": [],
   "source": [
    "model1 = make_pipeline(StandardScaler(), RidgeClassifier())\n",
    "model1.fit(X_initial_train, Y_initial_train)\n",
    "model2 = make_pipeline(StandardScaler(), RidgeClassifier(alpha=0.5))\n",
    "model2.fit(X_initial_train, Y_initial_train)\n",
    "\n",
    "X_initial_train_1 = X_initial_train.copy()\n",
    "Y_initial_train_1 = Y_initial_train.copy()\n",
    "df_runs = pd.DataFrame()\n",
    "for i, (x_data, y_data) in enumerate(zip(X_stream, Y_stream)):\n",
    "    y_pred1 = model1.predict(x_data[np.newaxis])\n",
    "    y_pred2 = model2.predict(x_data[np.newaxis])\n",
    "    if y_pred1 != y_pred2:\n",
    "        df_runs = pd.concat([df_runs, pd.DataFrame({'y_pred1': y_pred1, 'y_pred2': y_pred2,\n",
    "                                                    'y_data': y_data}, index=[i])], axis=0)\n",
    "        X_initial_train_1 = np.concatenate([X_initial_train_1, [x_data]])\n",
    "        Y_initial_train_1 = np.concatenate([Y_initial_train_1, [y_data]])\n",
    "        model1.fit(X_initial_train_1, Y_initial_train_1)\n",
    "        model2.fit(X_initial_train_1, Y_initial_train_1)\n",
    "        "
   ]
  },
  {
   "cell_type": "code",
   "execution_count": 89,
   "metadata": {},
   "outputs": [
    {
     "data": {
      "text/html": [
       "<div>\n",
       "<style scoped>\n",
       "    .dataframe tbody tr th:only-of-type {\n",
       "        vertical-align: middle;\n",
       "    }\n",
       "\n",
       "    .dataframe tbody tr th {\n",
       "        vertical-align: top;\n",
       "    }\n",
       "\n",
       "    .dataframe thead th {\n",
       "        text-align: right;\n",
       "    }\n",
       "</style>\n",
       "<table border=\"1\" class=\"dataframe\">\n",
       "  <thead>\n",
       "    <tr style=\"text-align: right;\">\n",
       "      <th></th>\n",
       "      <th>747</th>\n",
       "      <th>1038</th>\n",
       "      <th>1469</th>\n",
       "      <th>3064</th>\n",
       "      <th>3131</th>\n",
       "      <th>3232</th>\n",
       "      <th>4026</th>\n",
       "      <th>4481</th>\n",
       "      <th>5277</th>\n",
       "      <th>5544</th>\n",
       "      <th>...</th>\n",
       "      <th>28808</th>\n",
       "      <th>28848</th>\n",
       "      <th>29098</th>\n",
       "      <th>29281</th>\n",
       "      <th>29337</th>\n",
       "      <th>29598</th>\n",
       "      <th>29662</th>\n",
       "      <th>29719</th>\n",
       "      <th>29916</th>\n",
       "      <th>29934</th>\n",
       "    </tr>\n",
       "  </thead>\n",
       "  <tbody>\n",
       "    <tr>\n",
       "      <th>y_pred1</th>\n",
       "      <td>1</td>\n",
       "      <td>2</td>\n",
       "      <td>0</td>\n",
       "      <td>0</td>\n",
       "      <td>5</td>\n",
       "      <td>4</td>\n",
       "      <td>8</td>\n",
       "      <td>4</td>\n",
       "      <td>2</td>\n",
       "      <td>6</td>\n",
       "      <td>...</td>\n",
       "      <td>8</td>\n",
       "      <td>6</td>\n",
       "      <td>4</td>\n",
       "      <td>2</td>\n",
       "      <td>2</td>\n",
       "      <td>3</td>\n",
       "      <td>8</td>\n",
       "      <td>9</td>\n",
       "      <td>8</td>\n",
       "      <td>4</td>\n",
       "    </tr>\n",
       "    <tr>\n",
       "      <th>y_pred2</th>\n",
       "      <td>5</td>\n",
       "      <td>4</td>\n",
       "      <td>6</td>\n",
       "      <td>2</td>\n",
       "      <td>6</td>\n",
       "      <td>6</td>\n",
       "      <td>2</td>\n",
       "      <td>3</td>\n",
       "      <td>4</td>\n",
       "      <td>2</td>\n",
       "      <td>...</td>\n",
       "      <td>0</td>\n",
       "      <td>2</td>\n",
       "      <td>2</td>\n",
       "      <td>6</td>\n",
       "      <td>6</td>\n",
       "      <td>2</td>\n",
       "      <td>6</td>\n",
       "      <td>4</td>\n",
       "      <td>2</td>\n",
       "      <td>0</td>\n",
       "    </tr>\n",
       "    <tr>\n",
       "      <th>y_data loss</th>\n",
       "      <td>2</td>\n",
       "      <td>4</td>\n",
       "      <td>6</td>\n",
       "      <td>3</td>\n",
       "      <td>5</td>\n",
       "      <td>6</td>\n",
       "      <td>8</td>\n",
       "      <td>3</td>\n",
       "      <td>2</td>\n",
       "      <td>2</td>\n",
       "      <td>...</td>\n",
       "      <td>6</td>\n",
       "      <td>6</td>\n",
       "      <td>4</td>\n",
       "      <td>6</td>\n",
       "      <td>2</td>\n",
       "      <td>4</td>\n",
       "      <td>8</td>\n",
       "      <td>9</td>\n",
       "      <td>5</td>\n",
       "      <td>3</td>\n",
       "    </tr>\n",
       "  </tbody>\n",
       "</table>\n",
       "<p>3 rows × 87 columns</p>\n",
       "</div>"
      ],
      "text/plain": [
       "            747   1038  1469  3064  3131  3232  4026  4481  5277  5544   ...  \\\n",
       "y_pred1         1     2     0     0     5     4     8     4     2     6  ...   \n",
       "y_pred2         5     4     6     2     6     6     2     3     4     2  ...   \n",
       "y_data loss     2     4     6     3     5     6     8     3     2     2  ...   \n",
       "\n",
       "            28808 28848 29098 29281 29337 29598 29662 29719 29916 29934  \n",
       "y_pred1         8     6     4     2     2     3     8     9     8     4  \n",
       "y_pred2         0     2     2     6     6     2     6     4     2     0  \n",
       "y_data loss     6     6     4     6     2     4     8     9     5     3  \n",
       "\n",
       "[3 rows x 87 columns]"
      ]
     },
     "execution_count": 89,
     "metadata": {},
     "output_type": "execute_result"
    }
   ],
   "source": [
    "df_runs.T"
   ]
  },
  {
   "cell_type": "code",
   "execution_count": 92,
   "metadata": {},
   "outputs": [
    {
     "name": "stdout",
     "output_type": "stream",
     "text": [
      "0.6838552838552838 0.6745602745602746\n"
     ]
    }
   ],
   "source": [
    "print(model1.score(X_stream, Y_stream), model2.score(X_stream, Y_stream))"
   ]
  },
  {
   "cell_type": "markdown",
   "metadata": {
    "id": "BXsqPrHV07Vl"
   },
   "source": [
    "7. ** Create a third model from the same version space, use all 3 models in identification of informative samples."
   ]
  },
  {
   "cell_type": "markdown",
   "metadata": {
    "id": "vaG4-GOd1kJ8"
   },
   "source": [
    "How is this connected to evaluation process? How to estimate those models performance?"
   ]
  },
  {
   "cell_type": "code",
   "execution_count": null,
   "metadata": {},
   "outputs": [],
   "source": [
    "model1 = make_pipeline(StandardScaler(), RidgeClassifier())\n",
    "model1.fit(X_initial_train, Y_initial_train)\n",
    "model2 = make_pipeline(StandardScaler(), RidgeClassifier(alpha=0.5))\n",
    "model2.fit(X_initial_train, Y_initial_train)\n",
    "model3 = make_pipeline(StandardScaler(), RidgeClassifier(alpha=2))\n",
    "model3.fit(X_initial_train, Y_initial_train)\n",
    "\n",
    "X_initial_train_1 = X_initial_train.copy()\n",
    "Y_initial_train_1 = Y_initial_train.copy()\n",
    "df_runs = pd.DataFrame()\n",
    "for i, (x_data, y_data) in enumerate(zip(X_stream[:30000], Y_stream[:30000])):\n",
    "    y_pred1 = model1.predict(x_data[np.newaxis])\n",
    "    y_pred2 = model2.predict(x_data[np.newaxis])\n",
    "    y_pred3 = model3.predict(x_data[np.newaxis])\n",
    "    if y_pred1 != y_pred2 or y_pred2 != y_pred3 or y_pred1 != y_pred3:\n",
    "        df_runs = pd.concat([df_runs, pd.DataFrame({'y_pred1': y_pred1, 'y_pred2': y_pred2, 'y_pred3': y_pred3,\n",
    "                                                    'y_data': y_data}, index=[i])], axis=0)\n",
    "        X_initial_train_1 = np.concatenate([X_initial_train_1, [x_data]])\n",
    "        Y_initial_train_1 = np.concatenate([Y_initial_train_1, [y_data]])\n",
    "        model1.fit(X_initial_train_1, Y_initial_train_1)\n",
    "        model2.fit(X_initial_train_1, Y_initial_train_1)\n",
    "        model3.fit(X_initial_train_1, Y_initial_train_1)\n",
    "        "
   ]
  }
 ],
 "metadata": {
  "colab": {
   "authorship_tag": "ABX9TyMCj/3XNjT/NhM4xy5cX+D6",
   "collapsed_sections": [],
   "name": "Lab2.ipynb",
   "provenance": []
  },
  "kernelspec": {
   "display_name": "tldl",
   "language": "python",
   "name": "tldl"
  },
  "language_info": {
   "codemirror_mode": {
    "name": "ipython",
    "version": 3
   },
   "file_extension": ".py",
   "mimetype": "text/x-python",
   "name": "python",
   "nbconvert_exporter": "python",
   "pygments_lexer": "ipython3",
   "version": "3.8.10"
  }
 },
 "nbformat": 4,
 "nbformat_minor": 4
}
