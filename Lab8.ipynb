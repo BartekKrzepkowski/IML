{
  "nbformat": 4,
  "nbformat_minor": 0,
  "metadata": {
    "colab": {
      "name": "Lab8.ipynb",
      "provenance": [],
      "collapsed_sections": []
    },
    "kernelspec": {
      "name": "python3",
      "display_name": "Python 3"
    },
    "language_info": {
      "name": "python"
    }
  },
  "cells": [
    {
      "cell_type": "markdown",
      "source": [
        "#Lab8 - Noisy annotators\n",
        "\n",
        "On this lab session we will focus on working with noisy annotators.\n",
        "\n",
        "In real life tagging scenarios, we usually obtain annotations from human experts. Humans usually are imperfect and therefore make mistakes. This is why if we have access to multiple annotators we consider methods of ground truth estimation, e.g. majority voting."
      ],
      "metadata": {
        "id": "rqphsBLE9aBk"
      }
    },
    {
      "cell_type": "markdown",
      "source": [
        "---\n",
        "Lets start by loading the annotation data.\n",
        "You can find prepared annotations for MNIST dataset in file `mnist_tags.npy` uploaded to the moodle with the scenario."
      ],
      "metadata": {
        "id": "o1LDZh9ZCB8t"
      }
    },
    {
      "cell_type": "code",
      "execution_count": 10,
      "metadata": {
        "id": "C-0uaqEewVhF"
      },
      "outputs": [],
      "source": [
        "import numpy as np\n",
        "\n",
        "\n",
        "tags = np.load('mnist_tags.npy')\n",
        "# X = np.load('mnist_X.npy') X is not needed in this scenario, we assume in the algorithms that experts performance does depend on features of the samples.\n",
        "y = np.load('mnist_y.npy')"
      ]
    },
    {
      "cell_type": "markdown",
      "source": [
        "Tags is of shape `(n_samples, n_classes, n_annotators)`.\n",
        "It contains:\n",
        "- `nan` if an annotator hasn't labelled this sample at all\n",
        "- 0 if he has labelled the sample and didn't indicate considered class\n",
        "- 1 if he has labelled the sample and indicated that it belongs to considered class"
      ],
      "metadata": {
        "id": "uSVuN87PC1QZ"
      }
    },
    {
      "cell_type": "code",
      "source": [
        "print(f\"Annotations shape: {tags.shape}\")\n",
        "print(tags[:3, :, 10:])"
      ],
      "metadata": {
        "colab": {
          "base_uri": "https://localhost:8080/"
        },
        "id": "xbdxDwNEC0uq",
        "outputId": "5eaa3541-2b96-4864-cf11-4a51c0520091"
      },
      "execution_count": 12,
      "outputs": [
        {
          "output_type": "stream",
          "name": "stdout",
          "text": [
            "Annotations shape: (70000, 10, 15)\n",
            "[[[nan nan nan nan nan]\n",
            "  [nan nan nan nan nan]\n",
            "  [nan nan nan nan nan]\n",
            "  [nan nan nan nan nan]\n",
            "  [nan nan nan nan nan]\n",
            "  [nan nan nan nan nan]\n",
            "  [nan nan nan nan nan]\n",
            "  [nan nan nan nan nan]\n",
            "  [nan nan nan nan nan]\n",
            "  [nan nan nan nan nan]]\n",
            "\n",
            " [[nan  1. nan nan nan]\n",
            "  [nan  0. nan nan nan]\n",
            "  [nan  0. nan nan nan]\n",
            "  [nan  0. nan nan nan]\n",
            "  [nan  1. nan nan nan]\n",
            "  [nan  0. nan nan nan]\n",
            "  [nan  0. nan nan nan]\n",
            "  [nan  0. nan nan nan]\n",
            "  [nan  0. nan nan nan]\n",
            "  [nan  0. nan nan nan]]\n",
            "\n",
            " [[nan nan nan nan nan]\n",
            "  [nan nan nan nan nan]\n",
            "  [nan nan nan nan nan]\n",
            "  [nan nan nan nan nan]\n",
            "  [nan nan nan nan nan]\n",
            "  [nan nan nan nan nan]\n",
            "  [nan nan nan nan nan]\n",
            "  [nan nan nan nan nan]\n",
            "  [nan nan nan nan nan]\n",
            "  [nan nan nan nan nan]]]\n"
          ]
        }
      ]
    },
    {
      "cell_type": "markdown",
      "source": [
        "Some of the objects are not annotated at all, some of them are annotated only by a single person and some by multiple annnotators. "
      ],
      "metadata": {
        "id": "rHW3PFpnEQvb"
      }
    },
    {
      "cell_type": "code",
      "source": [
        "import matplotlib.pyplot as plt\n",
        "\n",
        "number_of_tags = np.sum(np.any(~np.isnan(tags), axis=1), axis=0)\n",
        "\n",
        "print(f\"Average number of tags per exp {number_of_tags.mean()} \\n Number of tags per expert {number_of_tags}\")\n",
        "plt.bar(range(len(number_of_tags)), number_of_tags)"
      ],
      "metadata": {
        "colab": {
          "base_uri": "https://localhost:8080/",
          "height": 334
        },
        "id": "ExZx_n5QEdfZ",
        "outputId": "dc9a4f8a-0d3b-45a7-85a0-b365fc9796d2"
      },
      "execution_count": 9,
      "outputs": [
        {
          "output_type": "stream",
          "name": "stdout",
          "text": [
            "Average number of tags per exp 2549.0 \n",
            " Number of tags per expert [9413 1566 5111 2862 4488  476 3059  620 2447  250 1493  794 1465  883\n",
            " 3308]\n"
          ]
        },
        {
          "output_type": "execute_result",
          "data": {
            "text/plain": [
              "<BarContainer object of 15 artists>"
            ]
          },
          "metadata": {},
          "execution_count": 9
        },
        {
          "output_type": "display_data",
          "data": {
            "text/plain": [
              "<Figure size 432x288 with 1 Axes>"
            ],
            "image/png": "[encoded data removed]"
          },
          "metadata": {
            "needs_background": "light"
          }
        }
      ]
    },
    {
      "cell_type": "markdown",
      "source": [
        "The ground truth labels, which can be used to estimate the quality of the methods are also binarized and represented in one-hot style."
      ],
      "metadata": {
        "id": "dtzBxOjIEq_L"
      }
    },
    {
      "cell_type": "code",
      "source": [
        "print(y.shape)\n",
        "print(y[1])"
      ],
      "metadata": {
        "colab": {
          "base_uri": "https://localhost:8080/"
        },
        "id": "9vyN3oZhE-Ps",
        "outputId": "e4306b49-01fa-4d10-c990-330e93551b12"
      },
      "execution_count": 7,
      "outputs": [
        {
          "output_type": "stream",
          "name": "stdout",
          "text": [
            "(70000, 10)\n",
            "[1 0 0 0 0 0 0 0 0 0]\n"
          ]
        }
      ]
    },
    {
      "cell_type": "markdown",
      "source": [
        "1. Create a function that evaluates the experts performance. Plot the histogram of their performance."
      ],
      "metadata": {
        "id": "q4fhLFWSFHn9"
      }
    },
    {
      "cell_type": "code",
      "source": [
        ""
      ],
      "metadata": {
        "id": "gPXZvaEnFi-i"
      },
      "execution_count": null,
      "outputs": []
    },
    {
      "cell_type": "markdown",
      "source": [
        "2. Create a majority voting consensus alogrithm, i.e. estimate the ground truth by choosing the class for which majority of experts that annotated the sample voted.\n",
        "\n",
        "Evaluate the performance of the majority voting algorithm."
      ],
      "metadata": {
        "id": "TP201rb-Fkfh"
      }
    },
    {
      "cell_type": "code",
      "source": [
        ""
      ],
      "metadata": {
        "id": "HcSQ7oPWF_SE"
      },
      "execution_count": null,
      "outputs": []
    },
    {
      "cell_type": "markdown",
      "source": [
        "3. Create a consensus voting algorithm.\n",
        "\n",
        "(Based on: http://www.umiacs.umd.edu/labs/cvl/pirl/vikas/publications/raykar_JMLR_2010_crowds.pdf)\n",
        "\n",
        "In consensus voting we esitmate the performance of each expert basing on their true positive rate and true negative rate for each  class. \n",
        "\n",
        "The algorithm is an instance of  Expectiation-Maximization algorithms class and works as follows:\n",
        "  \n",
        "  1. Compute the majority voting to estimate initial ground truths.\n",
        "  2. Estimate the performance of the experts basing on the equation: (M step)\n",
        "    \n",
        "  $$\n",
        "  tpr_a = \\frac{\\sum_{x \\in X} \\hat{p}(y = 1 | x) \\cdot p_a( y = 1 | x)}{\\sum_{x \\in X} \\hat{p}(y = 1 | x) }\n",
        "  $$\n",
        "\n",
        "  $$\n",
        "  tnr_a = \\frac{\\sum_{x \\in X} \\hat{p}(y = 0 | x) \\cdot p_a( y = 0 | x)}{\\sum_{x \\in X} \\hat{p}(y = 0 | x) }\n",
        "  $$\n",
        "  3. Estimate the probability distribution of classes for each sample basing on current experts performance estimation. (E step)\n",
        "  $$\n",
        "  p_{score}(y=1 | x) = p(y = 1) ⋅\\prod_{a \\in A } [tpr_a]^{p_a(y = 1 | x)} [1 - tpr_a]^{1 - p_a(y = 1 | x)}\n",
        "  $$\n",
        "\n",
        "  $$\n",
        "  p_{score}(y=0 | x) = p(y = 0) ⋅\\prod_{a \\in A } [tnr_a]^{p_a(y = 0 | x)} [1 - tnr_a]^{1 - p_a(y = 0 | x)}\n",
        "  $$\n",
        "\n",
        "  $$\n",
        "  \\hat{p}(y = 1 | x) = \\frac{p_{score}(y=1 | x)}{p_{score}(y=1 | x) + p_{score}(y=0 | x)}\n",
        "  $$\n",
        "  4. Repeat steps 2 and 3 until the probability distributions converge. "
      ],
      "metadata": {
        "id": "I2oEZzMMGFID"
      }
    },
    {
      "cell_type": "code",
      "source": [
        ""
      ],
      "metadata": {
        "id": "9BBxQYCcGEjn"
      },
      "execution_count": null,
      "outputs": []
    },
    {
      "cell_type": "markdown",
      "source": [
        "4. Evaluate the performance of consensus voting algorithm."
      ],
      "metadata": {
        "id": "QP1DGVE6P6AG"
      }
    },
    {
      "cell_type": "code",
      "source": [
        ""
      ],
      "metadata": {
        "id": "TI2AUwixP-33"
      },
      "execution_count": null,
      "outputs": []
    },
    {
      "cell_type": "markdown",
      "source": [
        "5*. Train a model on estimated labels using consensus voting, majority voting and ground truths, compare their performance."
      ],
      "metadata": {
        "id": "MLVYW9vgP_OR"
      }
    }
  ]
}