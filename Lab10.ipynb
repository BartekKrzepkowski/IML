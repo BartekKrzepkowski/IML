{
  "nbformat": 4,
  "nbformat_minor": 0,
  "metadata": {
    "colab": {
      "name": "Lab10.ipynb",
      "provenance": [],
      "collapsed_sections": []
    },
    "kernelspec": {
      "name": "python3",
      "display_name": "Python 3"
    },
    "language_info": {
      "name": "python"
    }
  },
  "cells": [
    {
      "cell_type": "markdown",
      "source": [
        "#Lab10 - Unsupervised learning\n",
        "\n",
        "In todays lab scenario we will focus on unsupervised learning based data exploration. We will look into data from the second assignment.\n",
        "\n",
        "\n",
        "Data were obtained during firefighters excercises and then manually labeled by experts. Firefighets had multiple sensors attached to their body during the various physical activities, the supervised tasks was to predict which of predefined activity types occured in selected timestamp.\n",
        "\n",
        "You can see an example of such excercises on this video: \\\n",
        "https://youtu.be/i6skdm1UoWM\n"
      ],
      "metadata": {
        "id": "B2w6ic-vNePA"
      }
    },
    {
      "cell_type": "markdown",
      "source": [
        "0. Lets start with data loading."
      ],
      "metadata": {
        "id": "z0_RkVgjP_NL"
      }
    },
    {
      "cell_type": "code",
      "execution_count": 5,
      "metadata": {
        "id": "8nOg0z5BNaqc"
      },
      "outputs": [],
      "source": [
        " import numpy as np\n",
        "\n",
        " X = np.loadtxt(\"IML_project2_data_pool.csv\", skiprows=1, delimiter=',')"
      ]
    },
    {
      "cell_type": "code",
      "source": [
        "print(f'X.shape: {X.shape}')\n",
        "print(f'Max: {X.max(axis=1)}')\n",
        "print(f'Min: {X.min(axis=1)}')"
      ],
      "metadata": {
        "colab": {
          "base_uri": "https://localhost:8080/"
        },
        "id": "50MQi0pGXcCE",
        "outputId": "dda5a768-acd8-4313-cc83-9a95fb11adb1"
      },
      "execution_count": 8,
      "outputs": [
        {
          "output_type": "stream",
          "name": "stdout",
          "text": [
            "X.shape: (20000, 1680)\n",
            "Max: [ 456.26  891.24 1054.76 ... 1230.25  288.75 1213.17]\n",
            "Min: [-379.75   -358.2705 -539.2625 ... -605.2935 -181.839  -708.33  ]\n"
          ]
        }
      ]
    },
    {
      "cell_type": "markdown",
      "source": [
        "As you can see the data columns have different scale, therefore we should rescale them for future clustering."
      ],
      "metadata": {
        "id": "7ejOEAcDXyEm"
      }
    },
    {
      "cell_type": "code",
      "source": [
        "from sklearn.preprocessing import minmax_scale\n",
        "\n",
        "X = minmax_scale(X)"
      ],
      "metadata": {
        "id": "3ZwVwRJ7YEO_"
      },
      "execution_count": 9,
      "outputs": []
    },
    {
      "cell_type": "markdown",
      "source": [
        "### For this lab scenario it may take to long to run the algorithms on whole dataset. Please try with smaller number of points, e.g. 3000."
      ],
      "metadata": {
        "id": "0W8IW3jVZWiS"
      }
    },
    {
      "cell_type": "markdown",
      "source": [
        "1. For the visualization purposes we will use UMAP dimension reduction algorithm. \\\n",
        "Plot the data using UMAP.(You can use umap-learn library)"
      ],
      "metadata": {
        "id": "1DG36NuqQD8L"
      }
    },
    {
      "cell_type": "code",
      "source": [
        ""
      ],
      "metadata": {
        "id": "EPLU24mxQ4j_"
      },
      "execution_count": 17,
      "outputs": []
    },
    {
      "cell_type": "markdown",
      "source": [
        "2. Cluster the data with DBScan alogrithm. \\\n",
        "Visualize obtained clusters."
      ],
      "metadata": {
        "id": "_ZxyQyiUQ5en"
      }
    },
    {
      "cell_type": "code",
      "source": [
        ""
      ],
      "metadata": {
        "id": "NEEYJmQ2RLde"
      },
      "execution_count": 17,
      "outputs": []
    },
    {
      "cell_type": "markdown",
      "source": [
        "3. Compute clustering quality metric, e.g. Silhouette score.\n",
        "\n",
        "We can define Silhouette score $S$ as follows: \\\n",
        "$\n",
        "a(i) = \\frac{1}{|C_I| - 1} \\sum_{j \\in C_I, j \\neq i} d(i, j)\n",
        "$ \\\n",
        "\n",
        "$\n",
        "b(i) = min_{J \\neq I} \\frac{1}{|C_J|} \\sum_{j \\in C_J} d(i, j)\n",
        "$\n",
        "\n",
        "$\n",
        "s(i) = \\frac{b(i) - a(i)}{max(a(i), b(i))}, if |C_I| > 1\n",
        "$\n",
        "\n",
        "$\n",
        "S = \\frac{1}{N}\\sum_{i = 1}^N s(i)\n",
        "$\n"
      ],
      "metadata": {
        "id": "y-wysWRtRL0_"
      }
    },
    {
      "cell_type": "code",
      "source": [
        ""
      ],
      "metadata": {
        "id": "MtukhCQAUuGG"
      },
      "execution_count": null,
      "outputs": []
    },
    {
      "cell_type": "markdown",
      "source": [
        "3. Run Kmeans algorithm on the data. Visualize, measure the performance. \\\n",
        "\\* You can try to run CLARANS algorithm instead as it allows to retrieve medoids by design."
      ],
      "metadata": {
        "id": "2iFvKF_ZUuoI"
      }
    },
    {
      "cell_type": "code",
      "source": [
        ""
      ],
      "metadata": {
        "id": "bq1jq8N3Vb73"
      },
      "execution_count": null,
      "outputs": []
    },
    {
      "cell_type": "markdown",
      "source": [
        "4. Run HDBScan algorithm, visualize the results, measure the performance.\n",
        "\n",
        "You can read more about HDBScan here: https://hdbscan.readthedocs.io/en/latest/how_hdbscan_works.html"
      ],
      "metadata": {
        "id": "SxZDJGbnVmLZ"
      }
    },
    {
      "cell_type": "code",
      "source": [
        ""
      ],
      "metadata": {
        "id": "3Y2gkGbvVtWA"
      },
      "execution_count": null,
      "outputs": []
    },
    {
      "cell_type": "markdown",
      "source": [
        "5. Compare the results from different methods."
      ],
      "metadata": {
        "id": "zXynHij-WFHZ"
      }
    }
  ]
}