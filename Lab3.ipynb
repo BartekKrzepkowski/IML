{
  "nbformat": 4,
  "nbformat_minor": 0,
  "metadata": {
    "colab": {
      "name": "Lab3.ipynb",
      "provenance": [],
      "collapsed_sections": []
    },
    "kernelspec": {
      "name": "python3",
      "display_name": "Python 3"
    },
    "language_info": {
      "name": "python"
    }
  },
  "cells": [
    {
      "cell_type": "markdown",
      "source": [
        "# Lab3 - Pool Active Learning\n",
        "\n",
        "In this scenario we will look into pool based active learning. We will implement a simple evaluation loop, and look into pool based uncertainty measures.\n",
        "\n",
        "To simulate active learning problem we will as usuall use already labeled dataset and \"forget\" the labels for majority of data."
      ],
      "metadata": {
        "id": "sXV5dx8gG7LC"
      }
    },
    {
      "cell_type": "code",
      "source": [
        "import numpy as np\n",
        "import matplotlib.pyplot as plt\n"
      ],
      "metadata": {
        "id": "GlxWiispIVa1"
      },
      "execution_count": null,
      "outputs": []
    },
    {
      "cell_type": "code",
      "execution_count": null,
      "metadata": {
        "id": "krLU2eeaGz6l"
      },
      "outputs": [],
      "source": [
        "from sklearn.datasets import fetch_openml\n",
        "X, Y = fetch_openml('nomao', return_X_y=True) "
      ]
    },
    {
      "cell_type": "markdown",
      "source": [
        "Lets get some insight about this data."
      ],
      "metadata": {
        "id": "ZOE9dTMyIKqY"
      }
    },
    {
      "cell_type": "code",
      "source": [
        "Y.head()"
      ],
      "metadata": {
        "colab": {
          "base_uri": "https://localhost:8080/"
        },
        "id": "3tnBzko4IPM0",
        "outputId": "ac209418-a887-4149-ff90-a13ab30a22b9"
      },
      "execution_count": null,
      "outputs": [
        {
          "output_type": "execute_result",
          "data": {
            "text/plain": [
              "0    2\n",
              "1    2\n",
              "2    2\n",
              "3    2\n",
              "4    2\n",
              "Name: Class, dtype: category\n",
              "Categories (2, object): ['1', '2']"
            ]
          },
          "metadata": {},
          "execution_count": 4
        }
      ]
    },
    {
      "cell_type": "code",
      "source": [
        "plt.hist(Y) # Of course we couldn't do that in practice, although we can usually ask domain experts about number of unique classes and their priors"
      ],
      "metadata": {
        "colab": {
          "base_uri": "https://localhost:8080/",
          "height": 334
        },
        "id": "9J_2Tn9WI09o",
        "outputId": "0b8cafdf-a6c6-4ff7-9fc8-31816981dc7b"
      },
      "execution_count": null,
      "outputs": [
        {
          "output_type": "execute_result",
          "data": {
            "text/plain": [
              "(array([24621.,     0.,     0.,     0.,     0.,     0.,     0.,     0.,\n",
              "            0.,  9844.]),\n",
              " array([0. , 0.1, 0.2, 0.3, 0.4, 0.5, 0.6, 0.7, 0.8, 0.9, 1. ]),\n",
              " <a list of 10 Patch objects>)"
            ]
          },
          "metadata": {},
          "execution_count": 5
        },
        {
          "output_type": "display_data",
          "data": {
            "text/plain": [
              "<Figure size 432x288 with 1 Axes>"
            ],
            "image/png": "[encoded data removed]"
          },
          "metadata": {
            "needs_background": "light"
          }
        }
      ]
    },
    {
      "cell_type": "code",
      "source": [
        "X.describe()"
      ],
      "metadata": {
        "colab": {
          "base_uri": "https://localhost:8080/",
          "height": 394
        },
        "id": "7vZ1j7QkI8uH",
        "outputId": "d4414e5f-25ad-42f0-98db-3c0e3f36c45f"
      },
      "execution_count": null,
      "outputs": [
        {
          "output_type": "execute_result",
          "data": {
            "text/plain": [
              "                 V1            V2            V3            V4            V5  \\\n",
              "count  34465.000000  34465.000000  34465.000000  34465.000000  34465.000000   \n",
              "mean       0.636477      0.494806      0.626273      0.560947      0.534202   \n",
              "std        0.424382      0.380142      0.305667      0.369695      0.325744   \n",
              "min        0.000000      0.000000      0.000000      0.000000      0.000000   \n",
              "25%        0.000000      0.000000      0.361111      0.218750      0.240000   \n",
              "50%        1.000000      0.500000      0.666667      0.666667      0.473684   \n",
              "75%        1.000000      1.000000      1.000000      1.000000      0.875000   \n",
              "max        1.000000      1.000000      1.000000      1.000000      1.000000   \n",
              "\n",
              "                 V6            V9           V10           V11           V12  \\\n",
              "count  34465.000000  34465.000000  34465.000000  34465.000000  34465.000000   \n",
              "mean       0.506693      0.860946      0.821590      0.883386      0.854119   \n",
              "std        0.372908      0.203808      0.210159      0.149473      0.181257   \n",
              "min        0.000000      0.000000      0.000000      0.000000      0.000000   \n",
              "25%        0.139535      0.860946      0.821590      0.883386      0.854119   \n",
              "50%        0.478261      0.860946      0.821590      0.883386      0.854119   \n",
              "75%        1.000000      1.000000      1.000000      1.000000      1.000000   \n",
              "max        1.000000      1.000000      1.000000      1.000000      1.000000   \n",
              "\n",
              "       ...          V106          V107          V109          V110  \\\n",
              "count  ...  34465.000000  34465.000000  34465.000000  34465.000000   \n",
              "mean   ...      0.765575      0.628865      0.978679      0.607880   \n",
              "std    ...      0.234591      0.346032      0.070081      0.137677   \n",
              "min    ...      0.100000      0.000000      0.008755      0.000000   \n",
              "25%    ...      0.600000      0.294118      0.978679      0.607880   \n",
              "50%    ...      0.700000      0.466667      0.978679      0.607880   \n",
              "75%    ...      1.000000      1.000000      0.999457      0.607880   \n",
              "max    ...      1.000000      1.000000      1.000000      1.000000   \n",
              "\n",
              "               V111          V113          V114          V115          V117  \\\n",
              "count  34465.000000  34465.000000  34465.000000  34465.000000  34465.000000   \n",
              "mean       0.396168      0.982576      0.644336      0.438054      0.988839   \n",
              "std        0.172149      0.064814      0.123862      0.156237      0.086640   \n",
              "min        0.000000      0.020058      0.000000      0.000000      0.000064   \n",
              "25%        0.357143      0.982576      0.644336      0.400000      0.999992   \n",
              "50%        0.396168      0.982576      0.644336      0.438054      1.000000   \n",
              "75%        0.396168      0.999653      0.644336      0.438054      1.000000   \n",
              "max        1.000000      1.000000      1.000000      1.000000      1.000000   \n",
              "\n",
              "               V118  \n",
              "count  34465.000000  \n",
              "mean       0.979322  \n",
              "std        0.084597  \n",
              "min        0.000077  \n",
              "25%        0.979322  \n",
              "50%        0.979322  \n",
              "75%        0.999999  \n",
              "max        1.000000  \n",
              "\n",
              "[8 rows x 89 columns]"
            ],
            "text/html": [
              "\n",
              "  <div id=\"df-8c54edbf-d410-444f-83a6-29dce3165579\">\n",
              "    <div class=\"colab-df-container\">\n",
              "      <div>\n",
              "<style scoped>\n",
              "    .dataframe tbody tr th:only-of-type {\n",
              "        vertical-align: middle;\n",
              "    }\n",
              "\n",
              "    .dataframe tbody tr th {\n",
              "        vertical-align: top;\n",
              "    }\n",
              "\n",
              "    .dataframe thead th {\n",
              "        text-align: right;\n",
              "    }\n",
              "</style>\n",
              "<table border=\"1\" class=\"dataframe\">\n",
              "  <thead>\n",
              "    <tr style=\"text-align: right;\">\n",
              "      <th></th>\n",
              "      <th>V1</th>\n",
              "      <th>V2</th>\n",
              "      <th>V3</th>\n",
              "      <th>V4</th>\n",
              "      <th>V5</th>\n",
              "      <th>V6</th>\n",
              "      <th>V9</th>\n",
              "      <th>V10</th>\n",
              "      <th>V11</th>\n",
              "      <th>V12</th>\n",
              "      <th>...</th>\n",
              "      <th>V106</th>\n",
              "      <th>V107</th>\n",
              "      <th>V109</th>\n",
              "      <th>V110</th>\n",
              "      <th>V111</th>\n",
              "      <th>V113</th>\n",
              "      <th>V114</th>\n",
              "      <th>V115</th>\n",
              "      <th>V117</th>\n",
              "      <th>V118</th>\n",
              "    </tr>\n",
              "  </thead>\n",
              "  <tbody>\n",
              "    <tr>\n",
              "      <th>count</th>\n",
              "      <td>34465.000000</td>\n",
              "      <td>34465.000000</td>\n",
              "      <td>34465.000000</td>\n",
              "      <td>34465.000000</td>\n",
              "      <td>34465.000000</td>\n",
              "      <td>34465.000000</td>\n",
              "      <td>34465.000000</td>\n",
              "      <td>34465.000000</td>\n",
              "      <td>34465.000000</td>\n",
              "      <td>34465.000000</td>\n",
              "      <td>...</td>\n",
              "      <td>34465.000000</td>\n",
              "      <td>34465.000000</td>\n",
              "      <td>34465.000000</td>\n",
              "      <td>34465.000000</td>\n",
              "      <td>34465.000000</td>\n",
              "      <td>34465.000000</td>\n",
              "      <td>34465.000000</td>\n",
              "      <td>34465.000000</td>\n",
              "      <td>34465.000000</td>\n",
              "      <td>34465.000000</td>\n",
              "    </tr>\n",
              "    <tr>\n",
              "      <th>mean</th>\n",
              "      <td>0.636477</td>\n",
              "      <td>0.494806</td>\n",
              "      <td>0.626273</td>\n",
              "      <td>0.560947</td>\n",
              "      <td>0.534202</td>\n",
              "      <td>0.506693</td>\n",
              "      <td>0.860946</td>\n",
              "      <td>0.821590</td>\n",
              "      <td>0.883386</td>\n",
              "      <td>0.854119</td>\n",
              "      <td>...</td>\n",
              "      <td>0.765575</td>\n",
              "      <td>0.628865</td>\n",
              "      <td>0.978679</td>\n",
              "      <td>0.607880</td>\n",
              "      <td>0.396168</td>\n",
              "      <td>0.982576</td>\n",
              "      <td>0.644336</td>\n",
              "      <td>0.438054</td>\n",
              "      <td>0.988839</td>\n",
              "      <td>0.979322</td>\n",
              "    </tr>\n",
              "    <tr>\n",
              "      <th>std</th>\n",
              "      <td>0.424382</td>\n",
              "      <td>0.380142</td>\n",
              "      <td>0.305667</td>\n",
              "      <td>0.369695</td>\n",
              "      <td>0.325744</td>\n",
              "      <td>0.372908</td>\n",
              "      <td>0.203808</td>\n",
              "      <td>0.210159</td>\n",
              "      <td>0.149473</td>\n",
              "      <td>0.181257</td>\n",
              "      <td>...</td>\n",
              "      <td>0.234591</td>\n",
              "      <td>0.346032</td>\n",
              "      <td>0.070081</td>\n",
              "      <td>0.137677</td>\n",
              "      <td>0.172149</td>\n",
              "      <td>0.064814</td>\n",
              "      <td>0.123862</td>\n",
              "      <td>0.156237</td>\n",
              "      <td>0.086640</td>\n",
              "      <td>0.084597</td>\n",
              "    </tr>\n",
              "    <tr>\n",
              "      <th>min</th>\n",
              "      <td>0.000000</td>\n",
              "      <td>0.000000</td>\n",
              "      <td>0.000000</td>\n",
              "      <td>0.000000</td>\n",
              "      <td>0.000000</td>\n",
              "      <td>0.000000</td>\n",
              "      <td>0.000000</td>\n",
              "      <td>0.000000</td>\n",
              "      <td>0.000000</td>\n",
              "      <td>0.000000</td>\n",
              "      <td>...</td>\n",
              "      <td>0.100000</td>\n",
              "      <td>0.000000</td>\n",
              "      <td>0.008755</td>\n",
              "      <td>0.000000</td>\n",
              "      <td>0.000000</td>\n",
              "      <td>0.020058</td>\n",
              "      <td>0.000000</td>\n",
              "      <td>0.000000</td>\n",
              "      <td>0.000064</td>\n",
              "      <td>0.000077</td>\n",
              "    </tr>\n",
              "    <tr>\n",
              "      <th>25%</th>\n",
              "      <td>0.000000</td>\n",
              "      <td>0.000000</td>\n",
              "      <td>0.361111</td>\n",
              "      <td>0.218750</td>\n",
              "      <td>0.240000</td>\n",
              "      <td>0.139535</td>\n",
              "      <td>0.860946</td>\n",
              "      <td>0.821590</td>\n",
              "      <td>0.883386</td>\n",
              "      <td>0.854119</td>\n",
              "      <td>...</td>\n",
              "      <td>0.600000</td>\n",
              "      <td>0.294118</td>\n",
              "      <td>0.978679</td>\n",
              "      <td>0.607880</td>\n",
              "      <td>0.357143</td>\n",
              "      <td>0.982576</td>\n",
              "      <td>0.644336</td>\n",
              "      <td>0.400000</td>\n",
              "      <td>0.999992</td>\n",
              "      <td>0.979322</td>\n",
              "    </tr>\n",
              "    <tr>\n",
              "      <th>50%</th>\n",
              "      <td>1.000000</td>\n",
              "      <td>0.500000</td>\n",
              "      <td>0.666667</td>\n",
              "      <td>0.666667</td>\n",
              "      <td>0.473684</td>\n",
              "      <td>0.478261</td>\n",
              "      <td>0.860946</td>\n",
              "      <td>0.821590</td>\n",
              "      <td>0.883386</td>\n",
              "      <td>0.854119</td>\n",
              "      <td>...</td>\n",
              "      <td>0.700000</td>\n",
              "      <td>0.466667</td>\n",
              "      <td>0.978679</td>\n",
              "      <td>0.607880</td>\n",
              "      <td>0.396168</td>\n",
              "      <td>0.982576</td>\n",
              "      <td>0.644336</td>\n",
              "      <td>0.438054</td>\n",
              "      <td>1.000000</td>\n",
              "      <td>0.979322</td>\n",
              "    </tr>\n",
              "    <tr>\n",
              "      <th>75%</th>\n",
              "      <td>1.000000</td>\n",
              "      <td>1.000000</td>\n",
              "      <td>1.000000</td>\n",
              "      <td>1.000000</td>\n",
              "      <td>0.875000</td>\n",
              "      <td>1.000000</td>\n",
              "      <td>1.000000</td>\n",
              "      <td>1.000000</td>\n",
              "      <td>1.000000</td>\n",
              "      <td>1.000000</td>\n",
              "      <td>...</td>\n",
              "      <td>1.000000</td>\n",
              "      <td>1.000000</td>\n",
              "      <td>0.999457</td>\n",
              "      <td>0.607880</td>\n",
              "      <td>0.396168</td>\n",
              "      <td>0.999653</td>\n",
              "      <td>0.644336</td>\n",
              "      <td>0.438054</td>\n",
              "      <td>1.000000</td>\n",
              "      <td>0.999999</td>\n",
              "    </tr>\n",
              "    <tr>\n",
              "      <th>max</th>\n",
              "      <td>1.000000</td>\n",
              "      <td>1.000000</td>\n",
              "      <td>1.000000</td>\n",
              "      <td>1.000000</td>\n",
              "      <td>1.000000</td>\n",
              "      <td>1.000000</td>\n",
              "      <td>1.000000</td>\n",
              "      <td>1.000000</td>\n",
              "      <td>1.000000</td>\n",
              "      <td>1.000000</td>\n",
              "      <td>...</td>\n",
              "      <td>1.000000</td>\n",
              "      <td>1.000000</td>\n",
              "      <td>1.000000</td>\n",
              "      <td>1.000000</td>\n",
              "      <td>1.000000</td>\n",
              "      <td>1.000000</td>\n",
              "      <td>1.000000</td>\n",
              "      <td>1.000000</td>\n",
              "      <td>1.000000</td>\n",
              "      <td>1.000000</td>\n",
              "    </tr>\n",
              "  </tbody>\n",
              "</table>\n",
              "<p>8 rows × 89 columns</p>\n",
              "</div>\n",
              "      <button class=\"colab-df-convert\" onclick=\"convertToInteractive('df-8c54edbf-d410-444f-83a6-29dce3165579')\"\n",
              "              title=\"Convert this dataframe to an interactive table.\"\n",
              "              style=\"display:none;\">\n",
              "        \n",
              "  <svg xmlns=\"http://www.w3.org/2000/svg\" height=\"24px\"viewBox=\"0 0 24 24\"\n",
              "       width=\"24px\">\n",
              "    <path d=\"M0 0h24v24H0V0z\" fill=\"none\"/>\n",
              "    <path d=\"M18.56 5.44l.94 2.06.94-2.06 2.06-.94-2.06-.94-.94-2.06-.94 2.06-2.06.94zm-11 1L8.5 8.5l.94-2.06 2.06-.94-2.06-.94L8.5 2.5l-.94 2.06-2.06.94zm10 10l.94 2.06.94-2.06 2.06-.94-2.06-.94-.94-2.06-.94 2.06-2.06.94z\"/><path d=\"M17.41 7.96l-1.37-1.37c-.4-.4-.92-.59-1.43-.59-.52 0-1.04.2-1.43.59L10.3 9.45l-7.72 7.72c-.78.78-.78 2.05 0 2.83L4 21.41c.39.39.9.59 1.41.59.51 0 1.02-.2 1.41-.59l7.78-7.78 2.81-2.81c.8-.78.8-2.07 0-2.86zM5.41 20L4 18.59l7.72-7.72 1.47 1.35L5.41 20z\"/>\n",
              "  </svg>\n",
              "      </button>\n",
              "      \n",
              "  <style>\n",
              "    .colab-df-container {\n",
              "      display:flex;\n",
              "      flex-wrap:wrap;\n",
              "      gap: 12px;\n",
              "    }\n",
              "\n",
              "    .colab-df-convert {\n",
              "      background-color: #E8F0FE;\n",
              "      border: none;\n",
              "      border-radius: 50%;\n",
              "      cursor: pointer;\n",
              "      display: none;\n",
              "      fill: #1967D2;\n",
              "      height: 32px;\n",
              "      padding: 0 0 0 0;\n",
              "      width: 32px;\n",
              "    }\n",
              "\n",
              "    .colab-df-convert:hover {\n",
              "      background-color: #E2EBFA;\n",
              "      box-shadow: 0px 1px 2px rgba(60, 64, 67, 0.3), 0px 1px 3px 1px rgba(60, 64, 67, 0.15);\n",
              "      fill: #174EA6;\n",
              "    }\n",
              "\n",
              "    [theme=dark] .colab-df-convert {\n",
              "      background-color: #3B4455;\n",
              "      fill: #D2E3FC;\n",
              "    }\n",
              "\n",
              "    [theme=dark] .colab-df-convert:hover {\n",
              "      background-color: #434B5C;\n",
              "      box-shadow: 0px 1px 3px 1px rgba(0, 0, 0, 0.15);\n",
              "      filter: drop-shadow(0px 1px 2px rgba(0, 0, 0, 0.3));\n",
              "      fill: #FFFFFF;\n",
              "    }\n",
              "  </style>\n",
              "\n",
              "      <script>\n",
              "        const buttonEl =\n",
              "          document.querySelector('#df-8c54edbf-d410-444f-83a6-29dce3165579 button.colab-df-convert');\n",
              "        buttonEl.style.display =\n",
              "          google.colab.kernel.accessAllowed ? 'block' : 'none';\n",
              "\n",
              "        async function convertToInteractive(key) {\n",
              "          const element = document.querySelector('#df-8c54edbf-d410-444f-83a6-29dce3165579');\n",
              "          const dataTable =\n",
              "            await google.colab.kernel.invokeFunction('convertToInteractive',\n",
              "                                                     [key], {});\n",
              "          if (!dataTable) return;\n",
              "\n",
              "          const docLinkHtml = 'Like what you see? Visit the ' +\n",
              "            '<a target=\"_blank\" href=https://colab.research.google.com/notebooks/data_table.ipynb>data table notebook</a>'\n",
              "            + ' to learn more about interactive tables.';\n",
              "          element.innerHTML = '';\n",
              "          dataTable['output_type'] = 'display_data';\n",
              "          await google.colab.output.renderOutput(dataTable, element);\n",
              "          const docLink = document.createElement('div');\n",
              "          docLink.innerHTML = docLinkHtml;\n",
              "          element.appendChild(docLink);\n",
              "        }\n",
              "      </script>\n",
              "    </div>\n",
              "  </div>\n",
              "  "
            ]
          },
          "metadata": {},
          "execution_count": 6
        }
      ]
    },
    {
      "cell_type": "code",
      "source": [
        "X.info()"
      ],
      "metadata": {
        "colab": {
          "base_uri": "https://localhost:8080/"
        },
        "id": "XwD5631nJtQT",
        "outputId": "25b04d2d-cefd-4ace-9fc1-d1cb6b39c78d"
      },
      "execution_count": null,
      "outputs": [
        {
          "output_type": "stream",
          "name": "stdout",
          "text": [
            "<class 'pandas.core.frame.DataFrame'>\n",
            "RangeIndex: 34465 entries, 0 to 34464\n",
            "Columns: 118 entries, V1 to V118\n",
            "dtypes: category(29), float64(89)\n",
            "memory usage: 24.4 MB\n"
          ]
        }
      ]
    },
    {
      "cell_type": "code",
      "source": [
        "X.head()"
      ],
      "metadata": {
        "colab": {
          "base_uri": "https://localhost:8080/",
          "height": 236
        },
        "id": "-SUzuGyYJ45Z",
        "outputId": "3bd5f3cb-52e3-42cf-a3e3-ebe824dee05d"
      },
      "execution_count": 11,
      "outputs": [
        {
          "output_type": "execute_result",
          "data": {
            "text/plain": [
              "    V1    V2        V3        V4        V5        V6 V7 V8        V9      V10  \\\n",
              "0  1.0  1.00  1.000000  1.000000  1.000000  1.000000  2  2  0.860946  0.82159   \n",
              "1  1.0  0.75  0.857143  0.857143  0.894737  0.947368  2  1  0.860946  0.82159   \n",
              "2  1.0  1.00  1.000000  1.000000  1.000000  1.000000  2  2  0.860946  0.82159   \n",
              "3  1.0  0.75  0.857143  0.857143  0.842105  0.833333  2  1  1.000000  1.00000   \n",
              "4  0.0  0.00  0.250000  0.000000  0.250000  0.000000  1  1  0.860946  0.82159   \n",
              "\n",
              "   ...      V109      V110      V111  V112      V113      V114      V115  \\\n",
              "0  ...  0.999967  0.750000  0.500000     2  0.999953  0.777778  0.461538   \n",
              "1  ...  0.999807  0.500000  0.307692     2  0.999983  0.538462  0.437500   \n",
              "2  ...  0.999983  0.666667  0.461538     2  0.999993  0.800000  0.666667   \n",
              "3  ...  0.998023  0.500000  0.285714     2  0.998605  0.555556  0.384615   \n",
              "4  ...  0.978679  0.607880  0.396168     1  0.982576  0.644336  0.438054   \n",
              "\n",
              "   V116  V117      V118  \n",
              "0     2   1.0  1.000000  \n",
              "1     2   1.0  1.000000  \n",
              "2     2   1.0  1.000000  \n",
              "3     2   1.0  0.999994  \n",
              "4     1   1.0  0.979322  \n",
              "\n",
              "[5 rows x 118 columns]"
            ],
            "text/html": [
              "\n",
              "  <div id=\"df-4ee9d811-59e1-4935-a3c4-0f75e6fc9490\">\n",
              "    <div class=\"colab-df-container\">\n",
              "      <div>\n",
              "<style scoped>\n",
              "    .dataframe tbody tr th:only-of-type {\n",
              "        vertical-align: middle;\n",
              "    }\n",
              "\n",
              "    .dataframe tbody tr th {\n",
              "        vertical-align: top;\n",
              "    }\n",
              "\n",
              "    .dataframe thead th {\n",
              "        text-align: right;\n",
              "    }\n",
              "</style>\n",
              "<table border=\"1\" class=\"dataframe\">\n",
              "  <thead>\n",
              "    <tr style=\"text-align: right;\">\n",
              "      <th></th>\n",
              "      <th>V1</th>\n",
              "      <th>V2</th>\n",
              "      <th>V3</th>\n",
              "      <th>V4</th>\n",
              "      <th>V5</th>\n",
              "      <th>V6</th>\n",
              "      <th>V7</th>\n",
              "      <th>V8</th>\n",
              "      <th>V9</th>\n",
              "      <th>V10</th>\n",
              "      <th>...</th>\n",
              "      <th>V109</th>\n",
              "      <th>V110</th>\n",
              "      <th>V111</th>\n",
              "      <th>V112</th>\n",
              "      <th>V113</th>\n",
              "      <th>V114</th>\n",
              "      <th>V115</th>\n",
              "      <th>V116</th>\n",
              "      <th>V117</th>\n",
              "      <th>V118</th>\n",
              "    </tr>\n",
              "  </thead>\n",
              "  <tbody>\n",
              "    <tr>\n",
              "      <th>0</th>\n",
              "      <td>1.0</td>\n",
              "      <td>1.00</td>\n",
              "      <td>1.000000</td>\n",
              "      <td>1.000000</td>\n",
              "      <td>1.000000</td>\n",
              "      <td>1.000000</td>\n",
              "      <td>2</td>\n",
              "      <td>2</td>\n",
              "      <td>0.860946</td>\n",
              "      <td>0.82159</td>\n",
              "      <td>...</td>\n",
              "      <td>0.999967</td>\n",
              "      <td>0.750000</td>\n",
              "      <td>0.500000</td>\n",
              "      <td>2</td>\n",
              "      <td>0.999953</td>\n",
              "      <td>0.777778</td>\n",
              "      <td>0.461538</td>\n",
              "      <td>2</td>\n",
              "      <td>1.0</td>\n",
              "      <td>1.000000</td>\n",
              "    </tr>\n",
              "    <tr>\n",
              "      <th>1</th>\n",
              "      <td>1.0</td>\n",
              "      <td>0.75</td>\n",
              "      <td>0.857143</td>\n",
              "      <td>0.857143</td>\n",
              "      <td>0.894737</td>\n",
              "      <td>0.947368</td>\n",
              "      <td>2</td>\n",
              "      <td>1</td>\n",
              "      <td>0.860946</td>\n",
              "      <td>0.82159</td>\n",
              "      <td>...</td>\n",
              "      <td>0.999807</td>\n",
              "      <td>0.500000</td>\n",
              "      <td>0.307692</td>\n",
              "      <td>2</td>\n",
              "      <td>0.999983</td>\n",
              "      <td>0.538462</td>\n",
              "      <td>0.437500</td>\n",
              "      <td>2</td>\n",
              "      <td>1.0</td>\n",
              "      <td>1.000000</td>\n",
              "    </tr>\n",
              "    <tr>\n",
              "      <th>2</th>\n",
              "      <td>1.0</td>\n",
              "      <td>1.00</td>\n",
              "      <td>1.000000</td>\n",
              "      <td>1.000000</td>\n",
              "      <td>1.000000</td>\n",
              "      <td>1.000000</td>\n",
              "      <td>2</td>\n",
              "      <td>2</td>\n",
              "      <td>0.860946</td>\n",
              "      <td>0.82159</td>\n",
              "      <td>...</td>\n",
              "      <td>0.999983</td>\n",
              "      <td>0.666667</td>\n",
              "      <td>0.461538</td>\n",
              "      <td>2</td>\n",
              "      <td>0.999993</td>\n",
              "      <td>0.800000</td>\n",
              "      <td>0.666667</td>\n",
              "      <td>2</td>\n",
              "      <td>1.0</td>\n",
              "      <td>1.000000</td>\n",
              "    </tr>\n",
              "    <tr>\n",
              "      <th>3</th>\n",
              "      <td>1.0</td>\n",
              "      <td>0.75</td>\n",
              "      <td>0.857143</td>\n",
              "      <td>0.857143</td>\n",
              "      <td>0.842105</td>\n",
              "      <td>0.833333</td>\n",
              "      <td>2</td>\n",
              "      <td>1</td>\n",
              "      <td>1.000000</td>\n",
              "      <td>1.00000</td>\n",
              "      <td>...</td>\n",
              "      <td>0.998023</td>\n",
              "      <td>0.500000</td>\n",
              "      <td>0.285714</td>\n",
              "      <td>2</td>\n",
              "      <td>0.998605</td>\n",
              "      <td>0.555556</td>\n",
              "      <td>0.384615</td>\n",
              "      <td>2</td>\n",
              "      <td>1.0</td>\n",
              "      <td>0.999994</td>\n",
              "    </tr>\n",
              "    <tr>\n",
              "      <th>4</th>\n",
              "      <td>0.0</td>\n",
              "      <td>0.00</td>\n",
              "      <td>0.250000</td>\n",
              "      <td>0.000000</td>\n",
              "      <td>0.250000</td>\n",
              "      <td>0.000000</td>\n",
              "      <td>1</td>\n",
              "      <td>1</td>\n",
              "      <td>0.860946</td>\n",
              "      <td>0.82159</td>\n",
              "      <td>...</td>\n",
              "      <td>0.978679</td>\n",
              "      <td>0.607880</td>\n",
              "      <td>0.396168</td>\n",
              "      <td>1</td>\n",
              "      <td>0.982576</td>\n",
              "      <td>0.644336</td>\n",
              "      <td>0.438054</td>\n",
              "      <td>1</td>\n",
              "      <td>1.0</td>\n",
              "      <td>0.979322</td>\n",
              "    </tr>\n",
              "  </tbody>\n",
              "</table>\n",
              "<p>5 rows × 118 columns</p>\n",
              "</div>\n",
              "      <button class=\"colab-df-convert\" onclick=\"convertToInteractive('df-4ee9d811-59e1-4935-a3c4-0f75e6fc9490')\"\n",
              "              title=\"Convert this dataframe to an interactive table.\"\n",
              "              style=\"display:none;\">\n",
              "        \n",
              "  <svg xmlns=\"http://www.w3.org/2000/svg\" height=\"24px\"viewBox=\"0 0 24 24\"\n",
              "       width=\"24px\">\n",
              "    <path d=\"M0 0h24v24H0V0z\" fill=\"none\"/>\n",
              "    <path d=\"M18.56 5.44l.94 2.06.94-2.06 2.06-.94-2.06-.94-.94-2.06-.94 2.06-2.06.94zm-11 1L8.5 8.5l.94-2.06 2.06-.94-2.06-.94L8.5 2.5l-.94 2.06-2.06.94zm10 10l.94 2.06.94-2.06 2.06-.94-2.06-.94-.94-2.06-.94 2.06-2.06.94z\"/><path d=\"M17.41 7.96l-1.37-1.37c-.4-.4-.92-.59-1.43-.59-.52 0-1.04.2-1.43.59L10.3 9.45l-7.72 7.72c-.78.78-.78 2.05 0 2.83L4 21.41c.39.39.9.59 1.41.59.51 0 1.02-.2 1.41-.59l7.78-7.78 2.81-2.81c.8-.78.8-2.07 0-2.86zM5.41 20L4 18.59l7.72-7.72 1.47 1.35L5.41 20z\"/>\n",
              "  </svg>\n",
              "      </button>\n",
              "      \n",
              "  <style>\n",
              "    .colab-df-container {\n",
              "      display:flex;\n",
              "      flex-wrap:wrap;\n",
              "      gap: 12px;\n",
              "    }\n",
              "\n",
              "    .colab-df-convert {\n",
              "      background-color: #E8F0FE;\n",
              "      border: none;\n",
              "      border-radius: 50%;\n",
              "      cursor: pointer;\n",
              "      display: none;\n",
              "      fill: #1967D2;\n",
              "      height: 32px;\n",
              "      padding: 0 0 0 0;\n",
              "      width: 32px;\n",
              "    }\n",
              "\n",
              "    .colab-df-convert:hover {\n",
              "      background-color: #E2EBFA;\n",
              "      box-shadow: 0px 1px 2px rgba(60, 64, 67, 0.3), 0px 1px 3px 1px rgba(60, 64, 67, 0.15);\n",
              "      fill: #174EA6;\n",
              "    }\n",
              "\n",
              "    [theme=dark] .colab-df-convert {\n",
              "      background-color: #3B4455;\n",
              "      fill: #D2E3FC;\n",
              "    }\n",
              "\n",
              "    [theme=dark] .colab-df-convert:hover {\n",
              "      background-color: #434B5C;\n",
              "      box-shadow: 0px 1px 3px 1px rgba(0, 0, 0, 0.15);\n",
              "      filter: drop-shadow(0px 1px 2px rgba(0, 0, 0, 0.3));\n",
              "      fill: #FFFFFF;\n",
              "    }\n",
              "  </style>\n",
              "\n",
              "      <script>\n",
              "        const buttonEl =\n",
              "          document.querySelector('#df-4ee9d811-59e1-4935-a3c4-0f75e6fc9490 button.colab-df-convert');\n",
              "        buttonEl.style.display =\n",
              "          google.colab.kernel.accessAllowed ? 'block' : 'none';\n",
              "\n",
              "        async function convertToInteractive(key) {\n",
              "          const element = document.querySelector('#df-4ee9d811-59e1-4935-a3c4-0f75e6fc9490');\n",
              "          const dataTable =\n",
              "            await google.colab.kernel.invokeFunction('convertToInteractive',\n",
              "                                                     [key], {});\n",
              "          if (!dataTable) return;\n",
              "\n",
              "          const docLinkHtml = 'Like what you see? Visit the ' +\n",
              "            '<a target=\"_blank\" href=https://colab.research.google.com/notebooks/data_table.ipynb>data table notebook</a>'\n",
              "            + ' to learn more about interactive tables.';\n",
              "          element.innerHTML = '';\n",
              "          dataTable['output_type'] = 'display_data';\n",
              "          await google.colab.output.renderOutput(dataTable, element);\n",
              "          const docLink = document.createElement('div');\n",
              "          docLink.innerHTML = docLinkHtml;\n",
              "          element.appendChild(docLink);\n",
              "        }\n",
              "      </script>\n",
              "    </div>\n",
              "  </div>\n",
              "  "
            ]
          },
          "metadata": {},
          "execution_count": 11
        }
      ]
    },
    {
      "cell_type": "code",
      "source": [
        "X.isna().sum().sum()"
      ],
      "metadata": {
        "colab": {
          "base_uri": "https://localhost:8080/"
        },
        "id": "MU3f3IyJLfA5",
        "outputId": "a357b05c-1a5a-4b48-fc02-e27f99cd1d20"
      },
      "execution_count": null,
      "outputs": [
        {
          "output_type": "execute_result",
          "data": {
            "text/plain": [
              "0"
            ]
          },
          "metadata": {},
          "execution_count": 9
        }
      ]
    },
    {
      "cell_type": "markdown",
      "source": [
        "Data set has 118 features, some of them are categorical most of them are numerical and already looks like they are scaled to [0, 1] range. There are no missing values in the dataset.\n",
        "\n",
        "Predicted variable has 2 categories indicated with 1 and 2. The problem is unbalanced, occurence of one class is dominating the other."
      ],
      "metadata": {
        "id": "dNhvLXpVIG85"
      }
    },
    {
      "cell_type": "markdown",
      "source": [
        "1. Sample 1% of the data as an initally labeled data set part. Sample 40% of the dataset for evaluation of created methods.(How we can evaluate the methods in practice?)"
      ],
      "metadata": {
        "id": "GJy1R4wbL1T_"
      }
    },
    {
      "cell_type": "code",
      "source": [
        ""
      ],
      "metadata": {
        "id": "IuE0f4UEMIWd"
      },
      "execution_count": null,
      "outputs": []
    },
    {
      "cell_type": "markdown",
      "source": [
        "2. Create a classifier and train it on this initial data set part. Evaluate it using BAC metric.(since problem is unbalanced)"
      ],
      "metadata": {
        "id": "ffeH-UcSMJPM"
      }
    },
    {
      "cell_type": "code",
      "source": [
        ""
      ],
      "metadata": {
        "id": "OTdokfkINBiR"
      },
      "execution_count": null,
      "outputs": []
    },
    {
      "cell_type": "markdown",
      "source": [
        "3. Implement the following informativeness functions:"
      ],
      "metadata": {
        "id": "a86gmEV7NCDK"
      }
    },
    {
      "cell_type": "code",
      "source": [
        "def entropy_informativeness(predictions_probabilities: np.ndarray) -> np.ndarray:\n",
        "  #TODO\n",
        "  pass\n",
        "\n",
        "def margin_informativeness(predictions_probabilities: np.ndarray) -> np.ndarray:\n",
        "  #TODO\n",
        "  pass\n",
        "\n",
        "def random_informativeness(predictions_probabilities: np.ndarray) -> np.ndarray:\n",
        "  #TODO\n",
        "  pass\n"
      ],
      "metadata": {
        "id": "uaeb5yTgR1Qy"
      },
      "execution_count": null,
      "outputs": []
    },
    {
      "cell_type": "markdown",
      "source": [
        "4. Implement a function that performs an active learning experiment and works as follows: \\\n",
        "  Repeat until 2% of data is tagged:\n",
        "  1. Trains model using current training data set.\n",
        "  2. Makes predictions using current model on the available training pool.\n",
        "  3. Computes chosen informativeness on the predictions of the model.\n",
        "  4. Selects best sample based on informativeness and retrives its labels simulating that it was passed to experts and add it to the training phase.\n",
        "\n",
        "Evaluate the final model using BAC on the evaluation set.\n",
        "\n",
        "Note. Try to make your active learning loop in an extendable way, we will be adding additional elements to this loop in next classes."
      ],
      "metadata": {
        "id": "eg4IpnrKTKnm"
      }
    },
    {
      "cell_type": "code",
      "source": [
        ""
      ],
      "metadata": {
        "id": "dD2hA-7N90xs"
      },
      "execution_count": null,
      "outputs": []
    },
    {
      "cell_type": "markdown",
      "source": [
        "\n",
        "Evaluate different informativeness functions in this setup."
      ],
      "metadata": {
        "id": "yYW3btW1CAIG"
      }
    },
    {
      "cell_type": "markdown",
      "source": [
        "\n",
        "5.* Extend the loop to the generic basic active learning framework. It may work as follows:\n",
        "1. Chooses the initial training data set(of size `init_batch`) to be labelled according the tactic from the parameter.(Random sampling by default)\n",
        "2. Until the end of labelling budget: \\\n",
        "  a. Evaluates all samples in the pool using provided informativeness function. (function as a parameter)\\\n",
        "  b. Chooses samples basing on the evaluations.(Chooser as a parameter )\\\n",
        "  c. Retrieves labels for the chosen samples. (Labelling should be redefinable for further function extensions) \\\n",
        "  d. Retraines/fine tunes the machine learning model. \\\n",
        "  e. Evaluates the current model with passed metric functions.\n",
        "3. Returns the created final model and evaluation functions obtained during the loop.\n",
        "\n",
        "Try to set the defualt parameters. So that we can run an experiment passing mainly the data. "
      ],
      "metadata": {
        "id": "QzEimlV_99Tt"
      }
    },
    {
      "cell_type": "code",
      "source": [
        ""
      ],
      "metadata": {
        "id": "2W66vHXdB-Uu"
      },
      "execution_count": null,
      "outputs": []
    }
  ]
}