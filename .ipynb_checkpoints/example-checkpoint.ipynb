{
 "cells": [
  {
   "cell_type": "code",
   "execution_count": 1,
   "id": "korean-three",
   "metadata": {},
   "outputs": [],
   "source": [
    "%load_ext autoreload\n",
    "%autoreload 2\n",
    "%load_ext tensorboard"
   ]
  },
  {
   "cell_type": "code",
   "execution_count": 2,
   "id": "damaged-painting",
   "metadata": {},
   "outputs": [],
   "source": [
    "%matplotlib inline\n",
    "\n",
    "import torch\n",
    "import torch.nn as nn\n",
    "import torch.optim as optim\n",
    "device = torch.device('cuda:0' if torch.cuda.is_available() else 'cpu')"
   ]
  },
  {
   "cell_type": "code",
   "execution_count": 3,
   "id": "tracked-hazard",
   "metadata": {
    "tags": []
   },
   "outputs": [],
   "source": [
    "from active_trainer import Trainer, IteratorParams\n",
    "from models import MnistFC\n",
    "from loaders import loaders_example\n",
    "\n",
    "params_clearml = {\n",
    "\n",
    "}\n",
    "\n",
    "DATASET_NAME = 'cifar10'\n",
    "params_trainer = {\n",
    "    'model': MnistFC,\n",
    "    'loaders': loaders_example,\n",
    "    'criterion': torch.nn.CrossEntropyLoss,\n",
    "    'optim': torch.optim.SGD,\n",
    "    'scheduler': torch.optim.lr_scheduler.ExponentialLR,\n",
    "    'params_clearml': params_clearml,\n",
    "    'is_tensorboard': True\n",
    "}\n",
    "\n",
    "trainer = Trainer(**params_trainer)"
   ]
  },
  {
   "cell_type": "code",
   "execution_count": 4,
   "id": "vocational-accuracy",
   "metadata": {},
   "outputs": [
    {
     "data": {
      "text/html": [
       "\n",
       "      <iframe id=\"tensorboard-frame-f61c394470507ab1\" width=\"100%\" height=\"800\" frameborder=\"0\">\n",
       "      </iframe>\n",
       "      <script>\n",
       "        (function() {\n",
       "          const frame = document.getElementById(\"tensorboard-frame-f61c394470507ab1\");\n",
       "          const url = new URL(\"/\", window.location);\n",
       "          const port = 6006;\n",
       "          if (port) {\n",
       "            url.port = port;\n",
       "          }\n",
       "          frame.src = url;\n",
       "        })();\n",
       "      </script>\n",
       "    "
      ],
      "text/plain": [
       "<IPython.core.display.HTML object>"
      ]
     },
     "metadata": {},
     "output_type": "display_data"
    }
   ],
   "source": [
    "%tensorboard --logdir=data"
   ]
  },
  {
   "cell_type": "code",
   "execution_count": 5,
   "id": "potential-journalist",
   "metadata": {
    "tags": []
   },
   "outputs": [
    {
     "name": "stdout",
     "output_type": "stream",
     "text": [
      "Files already downloaded and verified\n",
      "Files already downloaded and verified\n",
      "Getting features!!!\n",
      "Getting coreset indices!!!\n"
     ]
    },
    {
     "name": "stderr",
     "output_type": "stream",
     "text": [
      "100%|██████████| 200/200 [46:19<00:00, 13.90s/it]\n"
     ]
    },
    {
     "name": "stdout",
     "output_type": "stream",
     "text": [
      "Files already downloaded and verified\n",
      "Files already downloaded and verified\n"
     ]
    },
    {
     "name": "stderr",
     "output_type": "stream",
     "text": [
      "100%|██████████| 200/200 [02:24<00:00,  1.39it/s]\n"
     ]
    }
   ],
   "source": [
    "model_ls = [{}]\n",
    "loaders_ls = [{'batch_size':20, 'dataset_name': 'cifar10', 'is_coreset': True, 'is_shuffled': False}, \n",
    "              {'batch_size':20, 'dataset_name': 'cifar10', 'is_coreset': False, 'is_shuffled': True}]\n",
    "criterion_ls = [{}]\n",
    "optim_ls = [{'lr': 0.05, 'weight_decay': 0.001}]\n",
    "scheduler_ls = [{'gamma':0.97}]\n",
    "\n",
    "iter_params = IteratorParams(model_ls, loaders_ls, criterion_ls, optim_ls, scheduler_ls)\n",
    "\n",
    "params_runs = {\n",
    "    'iter_params': iter_params,\n",
    "    'epochs': 200,\n",
    "    'exp_name': 'cifar_10_coreset_1000',\n",
    "    'val_step': 10,\n",
    "    'verbose': False,\n",
    "    'checkpoint_save_step': 25, \n",
    "    'device': device\n",
    "}\n",
    "\n",
    "trainer.run_trainer(**params_runs)"
   ]
  },
  {
   "cell_type": "code",
   "execution_count": null,
   "id": "reliable-boulder",
   "metadata": {},
   "outputs": [],
   "source": []
  }
 ],
 "metadata": {
  "kernelspec": {
   "display_name": "tldl",
   "language": "python",
   "name": "tldl"
  },
  "language_info": {
   "codemirror_mode": {
    "name": "ipython",
    "version": 3
   },
   "file_extension": ".py",
   "mimetype": "text/x-python",
   "name": "python",
   "nbconvert_exporter": "python",
   "pygments_lexer": "ipython3",
   "version": "3.8.10"
  }
 },
 "nbformat": 4,
 "nbformat_minor": 5
}
