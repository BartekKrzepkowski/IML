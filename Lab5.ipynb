{
  "nbformat": 4,
  "nbformat_minor": 0,
  "metadata": {
    "colab": {
      "name": "Lab5.ipynb",
      "provenance": [],
      "collapsed_sections": []
    },
    "kernelspec": {
      "name": "python3",
      "display_name": "Python 3"
    },
    "language_info": {
      "name": "python"
    }
  },
  "cells": [
    {
      "cell_type": "markdown",
      "source": [
        "# Lab5 - Batch sampling\n",
        "\n",
        "In practice retraining or fine tuning of active learning model can be time(or other resource) expensive and become a bottleneck of the system.\n",
        "\n",
        "To handle such cases of downtime we can always use random sampling to choose labelled objects while model is retrained. However, in many cases this can lead to no AL performance gain, therefore we consider so called batch sampling, i.e., selection of many objects from the pool in one iteration.\n",
        "\n",
        "During this lab session we will focus on methods that allow to obtain decent model quality gain in batch AL scenario.\n",
        "\n",
        "0. Lets start with downloading a dataset and spliting it into learning pool and evaluation part. We will use the electricity dataset from openml. \\\n",
        "See https://www.openml.org/d/151"
      ],
      "metadata": {
        "id": "Q65ezhVkNH7Z"
      }
    },
    {
      "cell_type": "code",
      "execution_count": 3,
      "metadata": {
        "colab": {
          "base_uri": "https://localhost:8080/",
          "height": 206
        },
        "id": "0SSpZ73qNEtb",
        "outputId": "a29866c6-f3b6-46e3-80d6-581c8788791f"
      },
      "outputs": [
        {
          "output_type": "execute_result",
          "data": {
            "text/plain": [
              "   date day    period  nswprice  nswdemand  vicprice  vicdemand  transfer\n",
              "0   0.0   2  0.000000  0.056443   0.439155  0.003467   0.422915  0.414912\n",
              "1   0.0   2  0.021277  0.051699   0.415055  0.003467   0.422915  0.414912\n",
              "2   0.0   2  0.042553  0.051489   0.385004  0.003467   0.422915  0.414912\n",
              "3   0.0   2  0.063830  0.045485   0.314639  0.003467   0.422915  0.414912\n",
              "4   0.0   2  0.085106  0.042482   0.251116  0.003467   0.422915  0.414912"
            ],
            "text/html": [
              "\n",
              "  <div id=\"df-cf152fb4-968b-4b28-ba4b-b28a4a13c63f\">\n",
              "    <div class=\"colab-df-container\">\n",
              "      <div>\n",
              "<style scoped>\n",
              "    .dataframe tbody tr th:only-of-type {\n",
              "        vertical-align: middle;\n",
              "    }\n",
              "\n",
              "    .dataframe tbody tr th {\n",
              "        vertical-align: top;\n",
              "    }\n",
              "\n",
              "    .dataframe thead th {\n",
              "        text-align: right;\n",
              "    }\n",
              "</style>\n",
              "<table border=\"1\" class=\"dataframe\">\n",
              "  <thead>\n",
              "    <tr style=\"text-align: right;\">\n",
              "      <th></th>\n",
              "      <th>date</th>\n",
              "      <th>day</th>\n",
              "      <th>period</th>\n",
              "      <th>nswprice</th>\n",
              "      <th>nswdemand</th>\n",
              "      <th>vicprice</th>\n",
              "      <th>vicdemand</th>\n",
              "      <th>transfer</th>\n",
              "    </tr>\n",
              "  </thead>\n",
              "  <tbody>\n",
              "    <tr>\n",
              "      <th>0</th>\n",
              "      <td>0.0</td>\n",
              "      <td>2</td>\n",
              "      <td>0.000000</td>\n",
              "      <td>0.056443</td>\n",
              "      <td>0.439155</td>\n",
              "      <td>0.003467</td>\n",
              "      <td>0.422915</td>\n",
              "      <td>0.414912</td>\n",
              "    </tr>\n",
              "    <tr>\n",
              "      <th>1</th>\n",
              "      <td>0.0</td>\n",
              "      <td>2</td>\n",
              "      <td>0.021277</td>\n",
              "      <td>0.051699</td>\n",
              "      <td>0.415055</td>\n",
              "      <td>0.003467</td>\n",
              "      <td>0.422915</td>\n",
              "      <td>0.414912</td>\n",
              "    </tr>\n",
              "    <tr>\n",
              "      <th>2</th>\n",
              "      <td>0.0</td>\n",
              "      <td>2</td>\n",
              "      <td>0.042553</td>\n",
              "      <td>0.051489</td>\n",
              "      <td>0.385004</td>\n",
              "      <td>0.003467</td>\n",
              "      <td>0.422915</td>\n",
              "      <td>0.414912</td>\n",
              "    </tr>\n",
              "    <tr>\n",
              "      <th>3</th>\n",
              "      <td>0.0</td>\n",
              "      <td>2</td>\n",
              "      <td>0.063830</td>\n",
              "      <td>0.045485</td>\n",
              "      <td>0.314639</td>\n",
              "      <td>0.003467</td>\n",
              "      <td>0.422915</td>\n",
              "      <td>0.414912</td>\n",
              "    </tr>\n",
              "    <tr>\n",
              "      <th>4</th>\n",
              "      <td>0.0</td>\n",
              "      <td>2</td>\n",
              "      <td>0.085106</td>\n",
              "      <td>0.042482</td>\n",
              "      <td>0.251116</td>\n",
              "      <td>0.003467</td>\n",
              "      <td>0.422915</td>\n",
              "      <td>0.414912</td>\n",
              "    </tr>\n",
              "  </tbody>\n",
              "</table>\n",
              "</div>\n",
              "      <button class=\"colab-df-convert\" onclick=\"convertToInteractive('df-cf152fb4-968b-4b28-ba4b-b28a4a13c63f')\"\n",
              "              title=\"Convert this dataframe to an interactive table.\"\n",
              "              style=\"display:none;\">\n",
              "        \n",
              "  <svg xmlns=\"http://www.w3.org/2000/svg\" height=\"24px\"viewBox=\"0 0 24 24\"\n",
              "       width=\"24px\">\n",
              "    <path d=\"M0 0h24v24H0V0z\" fill=\"none\"/>\n",
              "    <path d=\"M18.56 5.44l.94 2.06.94-2.06 2.06-.94-2.06-.94-.94-2.06-.94 2.06-2.06.94zm-11 1L8.5 8.5l.94-2.06 2.06-.94-2.06-.94L8.5 2.5l-.94 2.06-2.06.94zm10 10l.94 2.06.94-2.06 2.06-.94-2.06-.94-.94-2.06-.94 2.06-2.06.94z\"/><path d=\"M17.41 7.96l-1.37-1.37c-.4-.4-.92-.59-1.43-.59-.52 0-1.04.2-1.43.59L10.3 9.45l-7.72 7.72c-.78.78-.78 2.05 0 2.83L4 21.41c.39.39.9.59 1.41.59.51 0 1.02-.2 1.41-.59l7.78-7.78 2.81-2.81c.8-.78.8-2.07 0-2.86zM5.41 20L4 18.59l7.72-7.72 1.47 1.35L5.41 20z\"/>\n",
              "  </svg>\n",
              "      </button>\n",
              "      \n",
              "  <style>\n",
              "    .colab-df-container {\n",
              "      display:flex;\n",
              "      flex-wrap:wrap;\n",
              "      gap: 12px;\n",
              "    }\n",
              "\n",
              "    .colab-df-convert {\n",
              "      background-color: #E8F0FE;\n",
              "      border: none;\n",
              "      border-radius: 50%;\n",
              "      cursor: pointer;\n",
              "      display: none;\n",
              "      fill: #1967D2;\n",
              "      height: 32px;\n",
              "      padding: 0 0 0 0;\n",
              "      width: 32px;\n",
              "    }\n",
              "\n",
              "    .colab-df-convert:hover {\n",
              "      background-color: #E2EBFA;\n",
              "      box-shadow: 0px 1px 2px rgba(60, 64, 67, 0.3), 0px 1px 3px 1px rgba(60, 64, 67, 0.15);\n",
              "      fill: #174EA6;\n",
              "    }\n",
              "\n",
              "    [theme=dark] .colab-df-convert {\n",
              "      background-color: #3B4455;\n",
              "      fill: #D2E3FC;\n",
              "    }\n",
              "\n",
              "    [theme=dark] .colab-df-convert:hover {\n",
              "      background-color: #434B5C;\n",
              "      box-shadow: 0px 1px 3px 1px rgba(0, 0, 0, 0.15);\n",
              "      filter: drop-shadow(0px 1px 2px rgba(0, 0, 0, 0.3));\n",
              "      fill: #FFFFFF;\n",
              "    }\n",
              "  </style>\n",
              "\n",
              "      <script>\n",
              "        const buttonEl =\n",
              "          document.querySelector('#df-cf152fb4-968b-4b28-ba4b-b28a4a13c63f button.colab-df-convert');\n",
              "        buttonEl.style.display =\n",
              "          google.colab.kernel.accessAllowed ? 'block' : 'none';\n",
              "\n",
              "        async function convertToInteractive(key) {\n",
              "          const element = document.querySelector('#df-cf152fb4-968b-4b28-ba4b-b28a4a13c63f');\n",
              "          const dataTable =\n",
              "            await google.colab.kernel.invokeFunction('convertToInteractive',\n",
              "                                                     [key], {});\n",
              "          if (!dataTable) return;\n",
              "\n",
              "          const docLinkHtml = 'Like what you see? Visit the ' +\n",
              "            '<a target=\"_blank\" href=https://colab.research.google.com/notebooks/data_table.ipynb>data table notebook</a>'\n",
              "            + ' to learn more about interactive tables.';\n",
              "          element.innerHTML = '';\n",
              "          dataTable['output_type'] = 'display_data';\n",
              "          await google.colab.output.renderOutput(dataTable, element);\n",
              "          const docLink = document.createElement('div');\n",
              "          docLink.innerHTML = docLinkHtml;\n",
              "          element.appendChild(docLink);\n",
              "        }\n",
              "      </script>\n",
              "    </div>\n",
              "  </div>\n",
              "  "
            ]
          },
          "metadata": {},
          "execution_count": 3
        }
      ],
      "source": [
        "from sklearn.datasets import fetch_openml\n",
        "\n",
        "X, y = fetch_openml('electricity', return_X_y=True)\n",
        "X.head()"
      ]
    },
    {
      "cell_type": "code",
      "source": [
        "import matplotlib.pyplot as plt\n",
        "plt.hist(y)"
      ],
      "metadata": {
        "colab": {
          "base_uri": "https://localhost:8080/",
          "height": 334
        },
        "id": "dgfl-7oyQ7cs",
        "outputId": "357d8b61-e34d-4e86-c4e3-e6f774ce354a"
      },
      "execution_count": 4,
      "outputs": [
        {
          "output_type": "execute_result",
          "data": {
            "text/plain": [
              "(array([19237.,     0.,     0.,     0.,     0.,     0.,     0.,     0.,\n",
              "            0., 26075.]),\n",
              " array([0. , 0.1, 0.2, 0.3, 0.4, 0.5, 0.6, 0.7, 0.8, 0.9, 1. ]),\n",
              " <a list of 10 Patch objects>)"
            ]
          },
          "metadata": {},
          "execution_count": 4
        },
        {
          "output_type": "display_data",
          "data": {
            "text/plain": [
              "<Figure size 432x288 with 1 Axes>"
            ],
            "image/png": "[encoded data removed]"
          },
          "metadata": {
            "needs_background": "light"
          }
        }
      ]
    },
    {
      "cell_type": "markdown",
      "source": [
        "1. One hot encode the day feature."
      ],
      "metadata": {
        "id": "tbDZgE1ORRwS"
      }
    },
    {
      "cell_type": "code",
      "source": [
        ""
      ],
      "metadata": {
        "id": "Xg1XdptZQ2WW"
      },
      "execution_count": null,
      "outputs": []
    },
    {
      "cell_type": "markdown",
      "source": [
        "2. Create an active learning loop, measure the performance using BAC.\n",
        "Train a model with batch 20 and a chosen informativeness measure. Start from 1% of pool data, sample 2% of the pool size.\n",
        "Compare your results with random sampling."
      ],
      "metadata": {
        "id": "0dVuSXh0Rqqx"
      }
    },
    {
      "cell_type": "code",
      "source": [
        ""
      ],
      "metadata": {
        "id": "_uhXHZpcRZQp"
      },
      "execution_count": null,
      "outputs": []
    },
    {
      "cell_type": "markdown",
      "source": [
        "3. Add to informativeness a random normal distribution with 0 mean and std 0.5 to obtain a batch with better diversity.\n",
        "\n",
        "Perform the experiments."
      ],
      "metadata": {
        "id": "_EBXzn9hR3un"
      }
    },
    {
      "cell_type": "code",
      "source": [
        ""
      ],
      "metadata": {
        "id": "tckUbutQSXB2"
      },
      "execution_count": null,
      "outputs": []
    },
    {
      "cell_type": "markdown",
      "source": [
        "4.* Add a distance based diversity. I.e.: \n",
        "  \n",
        "  a) Initialize the informativeness score with chosen informativeness measure, start with empty batch. \\\n",
        "  b) Choose one most informative sample at once, add it to the batch.  \\\n",
        "  c) Add to informativeness score of every sample a normalized distance to objects in the chosen batch. \\\n",
        "  d) Repeat b) c) until expected batch size is reached."
      ],
      "metadata": {
        "id": "qW8Z5ZVDSXkp"
      }
    },
    {
      "cell_type": "code",
      "source": [
        ""
      ],
      "metadata": {
        "id": "2uYnrJm9Ti_Y"
      },
      "execution_count": null,
      "outputs": []
    },
    {
      "cell_type": "markdown",
      "source": [
        "5.* Add a  simple representativenes to the informativeness, i.e. average distance to every other sample in the pool."
      ],
      "metadata": {
        "id": "DInWqbpHTmV-"
      }
    },
    {
      "cell_type": "code",
      "source": [
        ""
      ],
      "metadata": {
        "id": "F1vnLTJWTlmj"
      },
      "execution_count": null,
      "outputs": []
    }
  ]
}